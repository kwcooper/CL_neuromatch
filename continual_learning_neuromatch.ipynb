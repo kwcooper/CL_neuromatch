{
  "nbformat": 4,
  "nbformat_minor": 0,
  "metadata": {
    "colab": {
      "name": "continual-learning-neuromatch",
      "provenance": [],
      "collapsed_sections": [],
      "toc_visible": true,
      "include_colab_link": true
    },
    "kernelspec": {
      "display_name": "Python 3",
      "language": "python",
      "name": "python3"
    },
    "language_info": {
      "codemirror_mode": {
        "name": "ipython",
        "version": 3
      },
      "file_extension": ".py",
      "mimetype": "text/x-python",
      "name": "python",
      "nbconvert_exporter": "python",
      "pygments_lexer": "ipython3",
      "version": "3.7.3"
    },
    "toc-autonumbering": true,
    "accelerator": "GPU"
  },
  "cells": [
    {
      "cell_type": "markdown",
      "metadata": {
        "id": "view-in-github",
        "colab_type": "text"
      },
      "source": [
        "<a href=\"https://colab.research.google.com/github/kwcooper/CL_neuromatch/blob/main/continual_learning_neuromatch.ipynb\" target=\"_parent\"><img src=\"https://colab.research.google.com/assets/colab-badge.svg\" alt=\"Open In Colab\"/></a>"
      ]
    },
    {
      "cell_type": "markdown",
      "metadata": {
        "id": "fDXAYdIHuyCV"
      },
      "source": [
        "\n",
        "# Neuromatch Academy: Week ?, Day ?, Tutorial ?\n",
        "# Introduction to Continual Learning\n",
        "\n",
        "__Content creators:__ [Keiland Cooper](http://kwcooper.xyz), [Diganta Misra](https://digantamisra98.github.io/), [Vincenzo Lomonaco](https://www.vincenzolomonaco.com/), [Gido van de Ven](https://www.bcm.edu/people-search/gido-van-de-ven-32297), Name Surname, ... \n",
        "\n",
        "\n",
        "__Content reviewers:__ Name Surname, Name Surname. This includes both reviewers and editors. \n"
      ]
    },
    {
      "cell_type": "code",
      "metadata": {
        "colab": {
          "base_uri": "https://localhost:8080/",
          "height": 518
        },
        "cellView": "form",
        "id": "su_HP2wahMUO",
        "outputId": "c5339c81-bd3e-4f55-eda3-7d2d6834d31b"
      },
      "source": [
        "#@title Video 0: Overview of the session and introduction to continual learning [to be created]\n",
        "# Insert the ID of the corresponding youtube video\n",
        "from IPython.display import YouTubeVideo\n",
        "video = YouTubeVideo(id=\"\", width=854, height=480, fs=1)\n",
        "print(\"Video available at https://youtu.be/\" + video.id)\n",
        "video\n"
      ],
      "execution_count": null,
      "outputs": [
        {
          "output_type": "stream",
          "text": [
            "Video available at https://youtu.be/\n"
          ],
          "name": "stdout"
        },
        {
          "output_type": "execute_result",
          "data": {
            "text/html": [
              "\n",
              "        <iframe\n",
              "            width=\"854\"\n",
              "            height=\"480\"\n",
              "            src=\"https://www.youtube.com/embed/?fs=1\"\n",
              "            frameborder=\"0\"\n",
              "            allowfullscreen\n",
              "        ></iframe>\n",
              "        "
            ],
            "text/plain": [
              "<IPython.lib.display.YouTubeVideo at 0x7f02b21da750>"
            ]
          },
          "metadata": {
            "tags": []
          },
          "execution_count": 1
        }
      ]
    },
    {
      "cell_type": "markdown",
      "metadata": {
        "id": "gzAa0I1xZ79h"
      },
      "source": [
        "---\n",
        "#Tutorial Objectives\n",
        "\n",
        "\n",
        "\n",
        "(Will update)\n",
        "In this tutorial we'll dive head-first into the exciting field of continual learning (CL). CL has gained increasing attention in recent years, and for good reason. CL is postioned as a problem accross sub-disaplanes, from academia and industry, and may promise to be a major pathway towards strong artificial intelligence. As datasets get bigger and AI gets smarter, we're expecting more and more cognitive capabilities from our machines. \n",
        "\n",
        "We have a few specific objectives for this tutorial:\n",
        "*   Introduce students to major CL concepts\n",
        "*   Introduce the most common strategies to aid CL\n",
        "*   Utilize benchmarks and evaluation metrics \n",
        "*   Explore present day applications of CL \n",
        "\n",
        "\n",
        "_Use a line (---) separator from title block to objectives. You should briefly introduce your content here in a few sentences. In this tutorial, you will learn what a waxed notebook should look like. **You should make sure the notebook runs from start to finish when done waxing (do restart and run all and make sure there are no errors)**_\n",
        "\n"
      ]
    },
    {
      "cell_type": "markdown",
      "metadata": {
        "id": "V0iDJGBMzbMQ"
      },
      "source": [
        "---\n",
        "# Setup"
      ]
    },
    {
      "cell_type": "markdown",
      "metadata": {
        "id": "ISzwKBkOnil_"
      },
      "source": [
        "First, let's load in some usefule packages and functions. We'll primarly be using PyTorch as our neural network framework of choice. Be sure to run all the cells below so the code runs properly. "
      ]
    },
    {
      "cell_type": "code",
      "metadata": {
        "cellView": "both",
        "id": "3Yuh005kCT0v"
      },
      "source": [
        "# Imports\n",
        "\n",
        "# If any external library has to be installed, !pip install library --quiet\n",
        "\n",
        "import numpy as np\n",
        "import matplotlib.pyplot as plt\n",
        "\n",
        "import torch # should work natively now \n",
        "import torch.nn as nn\n",
        "import torchvision.datasets as datasets\n",
        "import torchvision.transforms as transforms\n",
        "import torch.optim as optim\n",
        "import torch.nn.functional as F\n",
        "\n"
      ],
      "execution_count": null,
      "outputs": []
    },
    {
      "cell_type": "code",
      "metadata": {
        "id": "PCOz4jKJXGya"
      },
      "source": [
        "#@title Figure settings\n",
        "import ipywidgets as widgets       # interactive display\n",
        "%config InlineBackend.figure_format = 'retina'\n",
        "plt.style.use(\"https://raw.githubusercontent.com/NeuromatchAcademy/course-content/master/nma.mplstyle\")"
      ],
      "execution_count": null,
      "outputs": []
    },
    {
      "cell_type": "code",
      "metadata": {
        "colab": {
          "base_uri": "https://localhost:8080/"
        },
        "id": "XJdvdgjUVWyl",
        "outputId": "bf7a08fc-d125-4df0-acd3-b81b9acec53c"
      },
      "source": [
        "#@title Configure PyTorch\n",
        "\n",
        "# PyTorch Configuration\n",
        "print('Torch', torch.__version__, 'CUDA', torch.version.cuda)\n",
        "\n",
        "if not torch.cuda.is_available():\n",
        "  print('For quicker runtime, add GPU at Runtime -> Change runtime type -> Hardware accelerator -> GPU')\n",
        "\n",
        "else:\n",
        "  # switch to False to use CPU\n",
        "  use_cuda = True\n",
        "\n",
        "  use_cuda = use_cuda and torch.cuda.is_available()\n",
        "  device = torch.device(\"cuda\" if use_cuda else \"cpu\");\n",
        "\n",
        "# set the seed\n",
        "torch.manual_seed(1);"
      ],
      "execution_count": null,
      "outputs": [
        {
          "output_type": "stream",
          "text": [
            "Torch 1.8.1+cu101 CUDA 10.1\n"
          ],
          "name": "stdout"
        }
      ]
    },
    {
      "cell_type": "code",
      "metadata": {
        "colab": {
          "base_uri": "https://localhost:8080/"
        },
        "id": "0EShhdNMmGzX",
        "outputId": "aad2a566-0530-44c9-e650-aeccadda15a9"
      },
      "source": [
        "#@title Data-loader Helper functions\n",
        "\n",
        "# TODO:\n",
        "# We need a more permenate solution for this... \n",
        "# https://github.com/pytorch/vision/issues/1938\n",
        "\n",
        "# we should also probably supress most of this output \n",
        "# unless we change the source of the data\n",
        "\n",
        "print('Downloading and unpacking MNIST data. Please wait a moment...\\n')\n",
        "\n",
        "# The MNIST repo on LeCun's website nor AWS seem to be availible\n",
        "# This is one popular private repo, but beware\n",
        "# PyTorch is reported to be hosting one soon...\n",
        "!wget www.di.ens.fr/~lelarge/MNIST.tar.gz\n",
        "!tar -zxvf MNIST.tar.gz\n",
        "\n",
        "from torchvision.datasets import MNIST\n",
        "from torchvision import transforms\n",
        "\n",
        "mnist_train = MNIST('./', download=False,\n",
        "                    transform=transforms.Compose([\n",
        "                        transforms.ToTensor(),\n",
        "                    ]), train=True)\n",
        "mnist_test = MNIST('./', download=False,\n",
        "                    transform=transforms.Compose([\n",
        "                        transforms.ToTensor(),\n",
        "                    ]), train=False)\n",
        "\n",
        "def load_mnist(verbose=False, asnumpy=True):\n",
        "    '''\n",
        "    Helper function to maintain compatability with\n",
        "    previous MNIST dataloaders in CLAI COLAB\n",
        "\n",
        "    Much of this can likely now be fixed with the toTensor call on inport\n",
        "    Or by using proper PyTorch functions... lol\n",
        "\n",
        "    - KWC\n",
        "    '''\n",
        "    \n",
        "    x_traint, t_traint = mnist_train.data, mnist_train.targets\n",
        "    x_testt, t_testt = mnist_test.data, mnist_test.targets\n",
        "    \n",
        "    if asnumpy: \n",
        "      # Fix dimensions and convert back to np array for code compatability\n",
        "      # We aren't using torch dataloaders for ease of use\n",
        "      x_traint = torch.unsqueeze(x_traint, 1)\n",
        "      x_testt = torch.unsqueeze(x_testt, 1)\n",
        "      x_train, x_test = x_traint.numpy().copy(), x_testt.numpy()\n",
        "      t_train, t_test = t_traint.numpy().copy(), t_testt.numpy()\n",
        "    else:\n",
        "      x_train, t_train = x_traint, t_traint\n",
        "      x_test, t_test = x_testt, t_testt\n",
        "\n",
        "    if verbose: \n",
        "      print(\"x_train dim and type: \", x_train.shape, x_train.dtype)\n",
        "      print(\"t_train dim and type: \", t_train.shape, t_train.dtype)\n",
        "      print(\"x_test dim and type: \", x_test.shape, x_test.dtype)\n",
        "      print(\"t_test dim and type: \", t_test.shape, t_test.dtype)\n",
        "      print()\n",
        "\n",
        "\n",
        "    return x_train, t_train, x_test, t_test\n",
        "           "
      ],
      "execution_count": null,
      "outputs": [
        {
          "output_type": "stream",
          "text": [
            "Downloading and unpacking MNIST data. Please wait a moment...\n",
            "\n",
            "--2021-05-29 06:37:18--  http://www.di.ens.fr/~lelarge/MNIST.tar.gz\n",
            "Resolving www.di.ens.fr (www.di.ens.fr)... 129.199.99.14\n",
            "Connecting to www.di.ens.fr (www.di.ens.fr)|129.199.99.14|:80... connected.\n",
            "HTTP request sent, awaiting response... 302 Found\n",
            "Location: https://www.di.ens.fr/~lelarge/MNIST.tar.gz [following]\n",
            "--2021-05-29 06:37:18--  https://www.di.ens.fr/~lelarge/MNIST.tar.gz\n",
            "Connecting to www.di.ens.fr (www.di.ens.fr)|129.199.99.14|:443... connected.\n",
            "HTTP request sent, awaiting response... 200 OK\n",
            "Length: unspecified [application/x-gzip]\n",
            "Saving to: ‘MNIST.tar.gz’\n",
            "\n",
            "MNIST.tar.gz            [        <=>         ]  33.20M  19.9MB/s    in 1.7s    \n",
            "\n",
            "2021-05-29 06:37:20 (19.9 MB/s) - ‘MNIST.tar.gz’ saved [34813078]\n",
            "\n",
            "MNIST/\n",
            "MNIST/raw/\n",
            "MNIST/raw/train-labels-idx1-ubyte\n",
            "MNIST/raw/t10k-labels-idx1-ubyte.gz\n",
            "MNIST/raw/t10k-labels-idx1-ubyte\n",
            "MNIST/raw/t10k-images-idx3-ubyte.gz\n",
            "MNIST/raw/train-images-idx3-ubyte\n",
            "MNIST/raw/train-labels-idx1-ubyte.gz\n",
            "MNIST/raw/t10k-images-idx3-ubyte\n",
            "MNIST/raw/train-images-idx3-ubyte.gz\n",
            "MNIST/processed/\n",
            "MNIST/processed/training.pt\n",
            "MNIST/processed/test.pt\n"
          ],
          "name": "stdout"
        }
      ]
    },
    {
      "cell_type": "code",
      "metadata": {
        "id": "vGVC4AWz41jD"
      },
      "source": [
        "#@title Plotting and Utils Helper functions\n",
        "\n",
        "# If any helper functions you want to hide for clarity, add here\n",
        "# If helper code depends on libraries that aren't used elsewhere,\n",
        "# import those libaries here, rather than in the main import cell\n",
        "\n",
        "\n",
        "def plot_mnist(data, nPlots=10):\n",
        "  \"\"\" Plot MNIST-like data \"\"\"\n",
        "  f, axarr = plt.subplots(1,nPlots)\n",
        "  for ii in range(nPlots):\n",
        "    axarr[ii].imshow(data[ii,0], cmap=\"gray\")\n",
        "  np.vectorize(lambda ax:ax.axis('off'))(axarr);\n",
        "  plt.show()\n",
        "\n",
        "\n",
        "def permute_mnist(mnist, seed, verbose=False):\n",
        "    \"\"\" Given the training set, permute pixels of each img the same way. \"\"\"\n",
        "\n",
        "    np.random.seed(seed)\n",
        "    if verbose: print(\"starting permutation...\")\n",
        "    h = w = 28\n",
        "    perm_inds = list(range(h*w))\n",
        "    np.random.shuffle(perm_inds)\n",
        "    # print(perm_inds)\n",
        "    perm_mnist = []\n",
        "    for set in mnist:\n",
        "        num_img = set.shape[0]\n",
        "        flat_set = set.reshape(num_img, w * h)\n",
        "        perm_mnist.append(flat_set[:, perm_inds].reshape(num_img, 1, w, h))\n",
        "    if verbose: print(\"done.\")\n",
        "    return perm_mnist\n",
        "\n",
        "\n",
        "def multi_task_barplot(accs, tasks, t=None):\n",
        "  ''' Plot n task accuracy\n",
        "      used for S1 intro to CF code '''\n",
        "  nTasks = len(accs)\n",
        "  plt.bar(range(nTasks), accs, color='k')\n",
        "  plt.ylabel('Testing Accuracy (%)', size=18)\n",
        "  plt.xticks(range(nTasks), \n",
        "            [f'{TN}\\nTask {ii+1}' for ii,TN in enumerate(tasks.keys())], \n",
        "            size=18)\n",
        "  plt.title(t)\n"
      ],
      "execution_count": null,
      "outputs": []
    },
    {
      "cell_type": "markdown",
      "metadata": {
        "id": "3s2ABRWEPVrf"
      },
      "source": [
        "---\n",
        "\n",
        "# Section X: Example neuromatch code to be deleted"
      ]
    },
    {
      "cell_type": "code",
      "metadata": {
        "id": "rjiM6vrRAmGF"
      },
      "source": [
        ""
      ],
      "execution_count": null,
      "outputs": []
    },
    {
      "cell_type": "markdown",
      "metadata": {
        "id": "ZosC4SmFQnhq"
      },
      "source": [
        "### Exercise 1: Helpful exercise name (ex. fitting a linear regression model)\n",
        "\n",
        "This exercise fits in this subsection so is a level 3 header\n",
        "\n",
        "Very briefly summarize the exercise here. In this exercise, you will also invoke `multiply_array` which multiplies an array by a scalar"
      ]
    },
    {
      "cell_type": "code",
      "metadata": {
        "id": "0dYxSDmqQgAC",
        "colab": {
          "base_uri": "https://localhost:8080/",
          "height": 147
        },
        "outputId": "d1b7ea1e-bc09-471e-873c-2414b5ca0a6f"
      },
      "source": [
        "def generic_function(x):\n",
        "  \"\"\"Google style doc string. Brief summary of what function does here\n",
        "  \n",
        "  Args:\n",
        "    x (ndarray): An array of shape (N,) that contains blah blah\n",
        "\n",
        "  Returns:\n",
        "    ndarray: The output is blah blah\n",
        "  \"\"\"Created using Colaboratory\n",
        "  #################################################\n",
        "  ## TODO for students: details of what they should do ##\n",
        "  # Fill out function and remove\n",
        "  raise NotImplementedError(\"Student exercise: say what they should have done\")\n",
        "  #################################################\n",
        "  \n",
        "  # Have a comment for every line of code they need to write, and when possible have\n",
        "  # variables written with ellipses where they should fill in or ellipses where they should\n",
        "  # fill in inputs to functions\n",
        "  y = multiply_array(..., 5)\n",
        "\n",
        "  # Another comment because they need to add another line of code\n",
        "  z = ...\n",
        "\n",
        "  return z\n",
        "\n",
        "x = np.array([4, 5, 6])\n",
        "z = generic_function(x)\n",
        "\n",
        "# we usually define the plotting function in the hidden Helper Functions\n",
        "# so students don't have to see a bunch of boilerplate matplotlib code\n",
        "plotting_z(z)"
      ],
      "execution_count": null,
      "outputs": [
        {
          "output_type": "error",
          "ename": "SyntaxError",
          "evalue": "ignored",
          "traceback": [
            "\u001b[0;36m  File \u001b[0;32m\"<ipython-input-55-285d17433c04>\"\u001b[0;36m, line \u001b[0;32m9\u001b[0m\n\u001b[0;31m    \"\"\"Created using Colaboratory\u001b[0m\n\u001b[0m                                 \n^\u001b[0m\n\u001b[0;31mSyntaxError\u001b[0m\u001b[0;31m:\u001b[0m invalid syntax\n"
          ]
        }
      ]
    },
    {
      "cell_type": "markdown",
      "metadata": {
        "id": "vd9JfcDrbQ_d"
      },
      "source": [
        "---\n",
        "__Editor guideline for exercise solution formatting:__\n",
        "- the presence of # to_remove solution in the first line of solution block\n",
        "- The absence of the fenced (#####) block that raises a NotImplementedError\n",
        "- Valid code replacing all ellipses  (...)\n",
        "- Code that uses or depends on the completed function/lines is uncommented\n",
        "- Plotting code is indented under a with plt.xkcd(): context manager.\n",
        "- **All other comments and code should be identical**\n",
        "---"
      ]
    },
    {
      "cell_type": "code",
      "metadata": {
        "cellView": "both",
        "id": "tycSi5Pxbsne"
      },
      "source": [
        "# to_remove solution\n",
        "def generic_function(x):\n",
        "  \"\"\"Google style doc string. Brief summary of what function does here\n",
        "  \n",
        "  Args:\n",
        "    x (ndarray): An array of shape (N,) that contains blah blah\n",
        "\n",
        "  Returns:\n",
        "    ndarray: The output is blah blah\n",
        "  \"\"\"\n",
        "\n",
        "  # Have a comment for every line of code they need to write, and when possible have\n",
        "  # variables written with ellipses where they should fill in or ellipses where they should\n",
        "  # fill in inputs to functions\n",
        "  y = multiply_array(x, 5)\n",
        "\n",
        "  # Another comment because they need to add another line of code\n",
        "  z = y + 6\n",
        "\n",
        "  return z\n",
        "\n",
        "x = np.array([4, 5, 6])\n",
        "z = generic_function(x)\n",
        "\n",
        "# we usually define the plotting function in the hidden Helper Functions\n",
        "# so students don't have to see a bunch of boilerplate matplotlib code\n",
        "# xkcd style for solution plot\n",
        "with plt.xkcd():  \n",
        "  plotting_z(z)"
      ],
      "execution_count": null,
      "outputs": []
    },
    {
      "cell_type": "code",
      "metadata": {
        "id": "O0-u0qhNgATu"
      },
      "source": [
        "# to_remove explanation\n",
        "\n",
        "\"\"\"\n",
        "Discussion: Write a dicussion about/answers to any open-ended questions you pose (either about a demo or elsewhere)\n",
        "\n",
        "You can write a paragraph or two of nice didactic text\n",
        "within a single comment. \n",
        "\"\"\";"
      ],
      "execution_count": null,
      "outputs": []
    },
    {
      "cell_type": "markdown",
      "metadata": {
        "id": "f4h1Y-BxcQyp"
      },
      "source": [
        "__Editor guideline:__ note that the form header for the cell above is __to_remove explanation__, not __to_remove solution__."
      ]
    },
    {
      "cell_type": "markdown",
      "metadata": {
        "id": "CrTpOZZDW9qZ"
      },
      "source": [
        "maybe some more text about what exercises showed (if helpful). \n",
        "The Gaussian is: \n",
        "- bumpy in the middle\n",
        "- symmetric\n",
        "- almighty"
      ]
    },
    {
      "cell_type": "markdown",
      "metadata": {
        "id": "nULavCfq4o07"
      },
      "source": [
        "---\n",
        "\n",
        "# Section 1: The sequential learning problem: catastrophic forgetting "
      ]
    },
    {
      "cell_type": "code",
      "metadata": {
        "colab": {
          "base_uri": "https://localhost:8080/",
          "height": 518
        },
        "id": "ThcPwgvzvV-6",
        "cellView": "form",
        "outputId": "574a73fd-f139-42a5-c737-b80cf2143479"
      },
      "source": [
        "#@title Video 1: Introduction to catastrophic forgetting [to be created]\n",
        "# Insert the ID of the corresponding youtube video\n",
        "from IPython.display import YouTubeVideo\n",
        "video = YouTubeVideo(id=\"\", width=854, height=480, fs=1)\n",
        "print(\"Video available at https://youtu.be/\" + video.id)\n",
        "video\n"
      ],
      "execution_count": null,
      "outputs": [
        {
          "output_type": "stream",
          "text": [
            "Video available at https://youtu.be/\n"
          ],
          "name": "stdout"
        },
        {
          "output_type": "execute_result",
          "data": {
            "text/html": [
              "\n",
              "        <iframe\n",
              "            width=\"854\"\n",
              "            height=\"480\"\n",
              "            src=\"https://www.youtube.com/embed/?fs=1\"\n",
              "            frameborder=\"0\"\n",
              "            allowfullscreen\n",
              "        ></iframe>\n",
              "        "
            ],
            "text/plain": [
              "<IPython.lib.display.YouTubeVideo at 0x7ff40478ee10>"
            ]
          },
          "metadata": {
            "tags": []
          },
          "execution_count": 15
        }
      ]
    },
    {
      "cell_type": "markdown",
      "metadata": {
        "id": "z8axuI6upLv4"
      },
      "source": [
        "_(Text about the first concept. Don't make too long to reduce reading times during tutorial (extra text for later reference can go in appendix))_\n",
        "\n",
        "Here we'll explore catastrophic forgetting first hand, a key barrier preventing continual learning in neural networks. To do so, we'll build a simple network model and try our best to teach it the trusty MNIST dataset"
      ]
    },
    {
      "cell_type": "markdown",
      "metadata": {
        "id": "j9n17gXFOIXX"
      },
      "source": [
        "## Section 1.1: A brief example of catastrophic forgetting \n",
        "\n",
        "Let's define a simple CNN that can perform fairly well on MNIST. We'll also load in some training and testing functions we wrote to load the data into the model and train / test it. We don't need to get into the details how they work for now (pretty standard) but feel free to double click the cell if you're curious!"
      ]
    },
    {
      "cell_type": "code",
      "metadata": {
        "id": "O3yGrRu7X8Dc"
      },
      "source": [
        "# Here we define a simple multilayer CNN. Nothing too fancy\n",
        "class Net(nn.Module):\n",
        "    def __init__(self):\n",
        "        super(Net, self).__init__()\n",
        "        self.conv1 = nn.Conv2d(1, 10, kernel_size=5)\n",
        "        self.conv2 = nn.Conv2d(10, 20, kernel_size=5)\n",
        "        self.conv2_drop = nn.Dropout2d()\n",
        "        self.fc1 = nn.Linear(320, 50)\n",
        "        self.fc2 = nn.Linear(50, 10)\n",
        "\n",
        "    def forward(self, x):\n",
        "        \"\"\" run the network forward \n",
        "        (uses the functional library (F) imported from pytorch)\"\"\"\n",
        "        x = F.relu(F.max_pool2d(self.conv1(x), 2))\n",
        "        x = F.relu(F.max_pool2d(self.conv2_drop(self.conv2(x)), 2))\n",
        "        x = x.view(-1, 320)\n",
        "        x = F.relu(self.fc1(x))\n",
        "        x = F.dropout(x, training=self.training)\n",
        "        x = self.fc2(x)\n",
        "        return x"
      ],
      "execution_count": null,
      "outputs": []
    },
    {
      "cell_type": "code",
      "metadata": {
        "id": "msAvs2JHX-Xa"
      },
      "source": [
        "#@title Model Training and Testing Functions\n",
        "def train(model, device, x_train, t_train, optimizer, epoch):\n",
        "    \"\"\"\n",
        "\n",
        "    \"\"\"\n",
        "    model.train()\n",
        "    \n",
        "    for start in range(0, len(t_train)-1, 256):\n",
        "      end = start + 256\n",
        "      x = torch.from_numpy(x_train[start:end]).type(torch.cuda.FloatTensor)\n",
        "      y = torch.from_numpy(t_train[start:end]).long()\n",
        "      x, y = x.to(device), y.to(device)\n",
        "      \n",
        "      optimizer.zero_grad()\n",
        "\n",
        "      output = model(x)\n",
        "      loss = F.cross_entropy(output, y)\n",
        "      loss.backward()\n",
        "      optimizer.step()\n",
        "      #print(loss.item())\n",
        "    print('Train Epoch: {} \\tLoss: {:.6f}'.format(epoch, loss.item()))\n",
        "\n",
        "def test(model, device, x_test, t_test):\n",
        "    \"\"\"\n",
        "\n",
        "    \"\"\"\n",
        "    model.eval()\n",
        "    correct, test_loss = 0, 0\n",
        "    for start in range(0, len(t_test)-1, 256):\n",
        "      end = start + 256\n",
        "      with torch.no_grad():\n",
        "        x = torch.from_numpy(x_test[start:end]).type(torch.cuda.FloatTensor)\n",
        "        y = torch.from_numpy(t_test[start:end]).long()\n",
        "        x, y = x.to(device), y.to(device)\n",
        "        output = model(x)\n",
        "        test_loss += F.cross_entropy(output, y).item() # sum up batch loss\n",
        "        pred = output.max(1, keepdim=True)[1] # get the index of the max logit\n",
        "        correct += pred.eq(y.view_as(pred)).sum().item()\n",
        "\n",
        "    test_loss /= len(t_train)\n",
        "    print('Test set: Average loss: {:.4f}, Accuracy: {}/{} ({:.0f}%)\\n'.format(\n",
        "        test_loss, correct, len(t_test),\n",
        "        100. * correct / len(t_test)))\n",
        "    return 100. * correct / len(t_test)\n",
        "\n",
        "\n",
        "class simpNet(nn.Module):\n",
        "    def __init__(self):\n",
        "        super(simpNet,self).__init__()\n",
        "        self.linear1 = nn.Linear(28*28, 320) \n",
        "        #self.linear2 = nn.Linear(320, 50) \n",
        "        self.out = nn.Linear(320, 10)\n",
        "        self.relu = nn.ReLU()\n",
        "\n",
        "    def forward(self, img): \n",
        "        #print(img.shape)\n",
        "        x = img.view(-1, 28*28)\n",
        "        #print(x.shape)\n",
        "        x = self.relu(self.linear1(x))\n",
        "        #x = self.relu(self.linear2(x))\n",
        "        x = self.out(x)\n",
        "        return x\n"
      ],
      "execution_count": null,
      "outputs": []
    },
    {
      "cell_type": "markdown",
      "metadata": {
        "id": "kLDNxAPOi-5H"
      },
      "source": [
        "Now let's load in our dataset, MNIST. We'll also run a function we defined in the helper function cell above that permutes (scrambles) the images. This allows us to create aditional datasets with similar statictics to MNIST on the fly. We'll call the normal MNIST Task 1, and the permuted MNIST Task 2. We'll see why in a second!"
      ]
    },
    {
      "cell_type": "code",
      "metadata": {
        "colab": {
          "base_uri": "https://localhost:8080/",
          "height": 261
        },
        "id": "TGDMl7JUmAwQ",
        "outputId": "04027549-b3a4-41cc-b256-8331cb21bc2b"
      },
      "source": [
        "# Load in MNIST and create an additional permuted dataset\n",
        "x_train, t_train, x_test, t_test = load_mnist(verbose=True)\n",
        "x_train2, x_test2 = permute_mnist([x_train, x_test], 0, verbose=False)\n",
        "\n",
        "# Plot the data to see what we're working with\n",
        "print('Task 1: MNIST Training data:')\n",
        "plot_mnist(x_train, nPlots=10)\n",
        "print('\\nTask 2: Permuted MNIST data:')\n",
        "plot_mnist(x_train2, nPlots=10)\n"
      ],
      "execution_count": null,
      "outputs": [
        {
          "output_type": "stream",
          "text": [
            "x_train dim and type:  (60000, 1, 28, 28) uint8\n",
            "t_train dim and type:  (60000,) int64\n",
            "x_test dim and type:  (10000, 1, 28, 28) uint8\n",
            "t_test dim and type:  (10000,) int64\n",
            "\n",
            "Task 1: MNIST Training data:\n"
          ],
          "name": "stdout"
        },
        {
          "output_type": "display_data",
          "data": {
            "image/png": "[encoded data removed]",
            "text/plain": [
              "<Figure size 576x432 with 10 Axes>"
            ]
          },
          "metadata": {
            "tags": [],
            "image/png": {
              "width": 557,
              "height": 54
            },
            "needs_background": "light"
          }
        },
        {
          "output_type": "stream",
          "text": [
            "\n",
            "Task 2: Permuted MNIST data:\n"
          ],
          "name": "stdout"
        },
        {
          "output_type": "display_data",
          "data": {
            "image/png": "[encoded data removed]",
            "text/plain": [
              "<Figure size 576x432 with 10 Axes>"
            ]
          },
          "metadata": {
            "tags": [],
            "image/png": {
              "width": 557,
              "height": 54
            },
            "needs_background": "light"
          }
        }
      ]
    },
    {
      "cell_type": "code",
      "metadata": {
        "id": "cizc9i-QpQBH"
      },
      "source": [
        ""
      ],
      "execution_count": null,
      "outputs": []
    },
    {
      "cell_type": "code",
      "metadata": {
        "id": "W4o7iNGtpd7R"
      },
      "source": [
        ""
      ],
      "execution_count": null,
      "outputs": []
    },
    {
      "cell_type": "markdown",
      "metadata": {
        "id": "3bT3zvWhjuLD"
      },
      "source": [
        "Great! We have our data. Now, let's initialize and train our model on the standard MNIST dataset (Task 1) and make sure everything is working properly. "
      ]
    },
    {
      "cell_type": "code",
      "metadata": {
        "colab": {
          "base_uri": "https://localhost:8080/"
        },
        "id": "30ysuRvhYGPO",
        "outputId": "23e0facd-560b-4eae-de19-f0bde55c741e"
      },
      "source": [
        "# Define a new model and set params\n",
        "model = Net().to(device)\n",
        "optimizer = optim.SGD(model.parameters(), lr=0.01, momentum=0.9)\n",
        "\n",
        "# Train the model on MNIST\n",
        "nEpochs = 3 \n",
        "print(f'Training model on {nEpochs} epochs...')\n",
        "for epoch in range(1, nEpochs+1):\n",
        "  train(model, device, x_train, t_train, optimizer, epoch)\n",
        "  test(model, device, x_test, t_test)"
      ],
      "execution_count": null,
      "outputs": [
        {
          "output_type": "stream",
          "text": [
            "Training model on 3 epochs...\n",
            "Train Epoch: 1 \tLoss: 1.531727\n",
            "Test set: Average loss: 0.0004, Accuracy: 8701/10000 (87%)\n",
            "\n",
            "Train Epoch: 2 \tLoss: 0.809245\n",
            "Test set: Average loss: 0.0002, Accuracy: 9280/10000 (93%)\n",
            "\n",
            "Train Epoch: 3 \tLoss: 1.077803\n",
            "Test set: Average loss: 0.0001, Accuracy: 9363/10000 (94%)\n",
            "\n"
          ],
          "name": "stdout"
        }
      ]
    },
    {
      "cell_type": "markdown",
      "metadata": {
        "id": "OWlK5CQdpMX5"
      },
      "source": [
        "Okay great! It seems we get decent accuracy on standard MNIST which means the model is learning our dataset. Now, a reasonable assumption is that, like humans, once the network learns something, it can aggregate its knowledge and learn something else. \n",
        "\n",
        "First, let's get a baseline for how the model performs on the dataset it was just trained on (Task 1) as well as to see how well it performs on a new dataset (Task 2). "
      ]
    },
    {
      "cell_type": "code",
      "metadata": {
        "colab": {
          "base_uri": "https://localhost:8080/",
          "height": 533
        },
        "id": "oinFMNkSp1lD",
        "outputId": "b27e5ee5-cfd5-4f8e-f88a-d2010ed90214"
      },
      "source": [
        "# test the model's accuracy on both the regular and permuted dataset\n",
        "\n",
        "# Let's define a dictionary that holds each of the task\n",
        "# datasets and labels \n",
        "tasks = {'MNIST':(x_test, t_test), \n",
        "         'Perm MNIST':(x_test2, t_test)}\n",
        "t1_accs = []\n",
        "for ti, task in enumerate(tasks.keys()):\n",
        "  print(f\"Testing on task {ti+1}\")\n",
        "  t1_accs.append(test(model, device, tasks[task][0], tasks[task][1]))\n",
        "\n",
        "# And then let's plot the testing accuracy on both datasets\n",
        "with plt.xkcd():  \n",
        "  multi_task_barplot(t1_accs, tasks, \n",
        "                     t='Accuracy after training on Task 1 \\nbut before Training on Task 2')\n"
      ],
      "execution_count": null,
      "outputs": [
        {
          "output_type": "stream",
          "text": [
            "Testing on task 1\n",
            "Test set: Average loss: 0.0001, Accuracy: 9363/10000 (94%)\n",
            "\n",
            "Testing on task 2\n",
            "Test set: Average loss: 0.0019, Accuracy: 782/10000 (8%)\n",
            "\n"
          ],
          "name": "stdout"
        },
        {
          "output_type": "display_data",
          "data": {
            "image/png": "[encoded data removed]",
            "text/plain": [
              "<Figure size 576x432 with 1 Axes>"
            ]
          },
          "metadata": {
            "tags": [],
            "image/png": {
              "width": 558,
              "height": 414
            }
          }
        }
      ]
    },
    {
      "cell_type": "markdown",
      "metadata": {
        "id": "9qerUrw6sTER"
      },
      "source": [
        "As we saw before, the model does great on the Task 1 dataset it was trained on, but not so well on the new one. No worries! We havn't taught it the permuted MNIST dataset yet! So let's train the *same* task 1-trained-model on the new data, and see if we can get comparable performance between the two types of MNIST"
      ]
    },
    {
      "cell_type": "code",
      "metadata": {
        "colab": {
          "base_uri": "https://localhost:8080/",
          "height": 635
        },
        "id": "Sxusb8s3itli",
        "outputId": "c3408f1a-9419-4ce0-ea1b-322545fd204b"
      },
      "source": [
        "\n",
        "# Train the previously trained model on Task 2, the permuted MNIST dataset\n",
        "for epoch in range(1, 3):\n",
        "  train(model, device, x_train2, t_train, optimizer, epoch)\n",
        "  test(model, device, x_test2, t_test)\n",
        "\n",
        "# Same data as before, stored in a dict\n",
        "tasks = {'MNIST':(x_test, t_test), \n",
        "         'Perm MNIST':(x_test2, t_test)}\n",
        "# Test the model on both datasets, same as before\n",
        "t12_accs = []\n",
        "for ti, task in enumerate(tasks.keys()):\n",
        "  print(f\"Testing on task {ti+1}\")\n",
        "  t12_accs.append(test(model, device, tasks[task][0], tasks[task][1]))\n",
        "\n",
        "# And then let's plot each of the testing accuracies after the new training\n",
        "with plt.xkcd():  \n",
        "  multi_task_barplot(t12_accs, tasks, \n",
        "                     t='Accuracy after training on Task 1 \\nand *AFTER* Training on Task 2')\n"
      ],
      "execution_count": null,
      "outputs": [
        {
          "output_type": "stream",
          "text": [
            "Train Epoch: 1 \tLoss: 1.843683\n",
            "Test set: Average loss: 0.0010, Accuracy: 5236/10000 (52%)\n",
            "\n",
            "Train Epoch: 2 \tLoss: 1.780445\n",
            "Test set: Average loss: 0.0007, Accuracy: 6513/10000 (65%)\n",
            "\n",
            "Testing on task 1\n",
            "Test set: Average loss: 0.0020, Accuracy: 1272/10000 (13%)\n",
            "\n",
            "Testing on task 2\n",
            "Test set: Average loss: 0.0007, Accuracy: 6513/10000 (65%)\n",
            "\n"
          ],
          "name": "stdout"
        },
        {
          "output_type": "display_data",
          "data": {
            "image/png": "[encoded data removed]",
            "text/plain": [
              "<Figure size 576x432 with 1 Axes>"
            ]
          },
          "metadata": {
            "tags": [],
            "image/png": {
              "width": 557,
              "height": 414
            }
          }
        }
      ]
    },
    {
      "cell_type": "markdown",
      "metadata": {
        "id": "Qytmat4xu6XF"
      },
      "source": [
        "Hey! Training did the trick, task 2 (permuted MNIST) has great accuracy now that we trained the model on it. But something is wrong. We just saw that Task 1 (standard MNIST) had high accuracy before we trained on the new task. What gives? "
      ]
    },
    {
      "cell_type": "code",
      "metadata": {
        "id": "E7GTR92qU1aX"
      },
      "source": [
        ""
      ],
      "execution_count": null,
      "outputs": []
    },
    {
      "cell_type": "code",
      "metadata": {
        "id": "yxI5oAfqs3id"
      },
      "source": [
        ""
      ],
      "execution_count": null,
      "outputs": []
    },
    {
      "cell_type": "markdown",
      "metadata": {
        "id": "MFaYDWZQ4TEF"
      },
      "source": [
        "## Section 1.2: Name"
      ]
    },
    {
      "cell_type": "markdown",
      "metadata": {
        "id": "-cXAncan4Xqk"
      },
      "source": [
        "### Exercise 2: Name"
      ]
    },
    {
      "cell_type": "markdown",
      "metadata": {
        "id": "EuqpiL2Av-vd"
      },
      "source": [
        "---\n",
        "# Section 2: Continual Learning strategies\n",
        "\n",
        "In this section we will take a look at some of the most prominent and basic continual learning strategies, namely, Rehearsal and Elastic Weight Consolidation (EWC).\n",
        "\n",
        "To learn more about some of the popular CL strategies, check this [page](https://vlomonaco.github.io/core50/strategies.html#:~:text=Rehearsal%20Strategies%3A%20past%20information%20is,new%20patterns%20for%20future%20training.)."
      ]
    },
    {
      "cell_type": "code",
      "metadata": {
        "cellView": "form",
        "colab": {
          "base_uri": "https://localhost:8080/",
          "height": 518
        },
        "id": "AFd7Ji-twKIK",
        "outputId": "80009586-a776-432d-afa3-44ca4b8a1cd1"
      },
      "source": [
        "#@title Video 2: Video 2 Name\n",
        "# Insert the ID of the corresponding youtube video\n",
        "from IPython.display import YouTubeVideo\n",
        "video = YouTubeVideo(id=\"\", width=854, height=480, fs=1)\n",
        "print(\"Video available at https://youtu.be/\" + video.id)\n",
        "video"
      ],
      "execution_count": null,
      "outputs": [
        {
          "output_type": "stream",
          "text": [
            "Video available at https://youtu.be/\n"
          ],
          "name": "stdout"
        },
        {
          "output_type": "execute_result",
          "data": {
            "text/html": [
              "\n",
              "        <iframe\n",
              "            width=\"854\"\n",
              "            height=\"480\"\n",
              "            src=\"https://www.youtube.com/embed/?fs=1\"\n",
              "            frameborder=\"0\"\n",
              "            allowfullscreen\n",
              "        ></iframe>\n",
              "        "
            ],
            "text/plain": [
              "<IPython.lib.display.YouTubeVideo at 0x7f0250856c50>"
            ]
          },
          "metadata": {
            "tags": []
          },
          "execution_count": 13
        }
      ]
    },
    {
      "cell_type": "markdown",
      "metadata": {
        "id": "PZo9f3uCkFul"
      },
      "source": [
        "## Rehearsal\n",
        "\n",
        "Rehearsal is arguably the simplest CL strategy where one simply passes all or some samples from previous tasks in the current task mixed with samples of the current task. \n",
        "The performance scales proportionally to the number of samples replayed from previous tasks, however, comes at a cost of memory expense. \n",
        "\n",
        "To learn more about rehearsal, check out this [paper](https://arxiv.org/abs/1809.05922)."
      ]
    },
    {
      "cell_type": "markdown",
      "metadata": {
        "id": "XSHgjmfrxzGl"
      },
      "source": [
        "Before starting with the strategies, let's define our tasks using MNIST/ Permuted MNIST."
      ]
    },
    {
      "cell_type": "code",
      "metadata": {
        "id": "whGcUQZIWqDq",
        "colab": {
          "base_uri": "https://localhost:8080/",
          "height": 215
        },
        "outputId": "e072df89-a52a-4276-fbf7-a4cb1c5410da"
      },
      "source": [
        "# tasks to use\n",
        "task_classes_arr = [(0, 1), (2, 3), (4, 5), (6, 7), (8, 9)]\n",
        "tasks_num = len(task_classes_arr) # 5\n",
        "\n",
        "task_data = []\n",
        "task_data_with_overlap = []\n",
        "for i, task_classes in enumerate(task_classes_arr):\n",
        "  train_mask = np.isin(t_train, task_classes)\n",
        "  test_mask = np.isin(t_test, task_classes)\n",
        "  x_train_task, t_train_task = x_train[train_mask], t_train[train_mask]\n",
        "  x_test_task, t_test_task = x_test[test_mask], t_test[test_mask]\n",
        "  \n",
        "  task_data.append((x_train_task, t_train_task, x_test_task, t_test_task))\n",
        "  task_data_with_overlap.append((x_train_task, t_train_task - (i * 2),\n",
        "                                 x_test_task, t_test_task - (i * 2)))\n",
        "\n",
        "# Display tasks\n",
        "def plot_task(axs, data, samples_num):\n",
        "  for sample in range(samples_num):\n",
        "    axs[sample].imshow(data[sample][0], cmap=\"gray\")\n",
        "    # np.vectorize(lambda ax:ax.axis('off'))(axs[sample]);\n",
        "    axs[sample].xaxis.set_ticks([])\n",
        "    axs[sample].yaxis.set_ticks([])\n",
        "\n",
        "n_tasks, samples = 3, 5\n",
        "_, axs = plt.subplots(n_tasks, samples, figsize=(5, 3))\n",
        "for task in range(n_tasks):\n",
        "  axs[task, 0].set_ylabel(f'Task {task}', rotation=0)\n",
        "  axs[task, 0].yaxis.set_label_coords(-0.5,1)\n",
        "  plot_task(axs[task], task_data[task][0], samples)\n",
        "plt.tight_layout()"
      ],
      "execution_count": null,
      "outputs": [
        {
          "output_type": "display_data",
          "data": {
            "image/png": "[encoded data removed]",
            "text/plain": [
              "<Figure size 360x216 with 15 Axes>"
            ]
          },
          "metadata": {
            "tags": [],
            "image/png": {
              "width": 324,
              "height": 198
            }
          }
        }
      ]
    },
    {
      "cell_type": "markdown",
      "metadata": {
        "id": "E-kL_Sv9wKli"
      },
      "source": [
        "First let's define the function `shuffle_in_unison` that would allow us to shuffle the samples from the previous task with that of the current task."
      ]
    },
    {
      "cell_type": "code",
      "metadata": {
        "id": "3l-M47EkkGUY"
      },
      "source": [
        "def shuffle_in_unison(dataset, seed, in_place=False):\n",
        "    \"\"\" Shuffle two (or more) list in unison. \"\"\"\n",
        "\n",
        "    np.random.seed(seed)\n",
        "    rng_state = np.random.get_state()\n",
        "    new_dataset = []\n",
        "    for x in dataset:\n",
        "        if in_place:\n",
        "            np.random.shuffle(x)\n",
        "        else:\n",
        "            new_dataset.append(np.random.permutation(x))\n",
        "        np.random.set_state(rng_state)\n",
        "\n",
        "    if not in_place:\n",
        "        return new_dataset"
      ],
      "execution_count": null,
      "outputs": []
    },
    {
      "cell_type": "code",
      "metadata": {
        "id": "_aC5hWYnSDz5"
      },
      "source": [
        "class FBaseNet(nn.Module):\n",
        "  def __init__(self, hsize=512):\n",
        "    super(FBaseNet, self).__init__()\n",
        "    self.l1 = nn.Linear(784, hsize)\n",
        "\n",
        "  def forward(self, x):\n",
        "    x = x.view(x.size(0), -1)\n",
        "    x = F.relu(self.l1(x))\n",
        "    return x\n",
        "\n",
        "\n",
        "class FHeadNet(nn.Module):\n",
        "  def __init__(self, base_net, input_size=512):\n",
        "    super(FHeadNet, self).__init__()\n",
        "\n",
        "    self.base_net = base_net\n",
        "\n",
        "    self.l1 = nn.Linear(input_size, 2)\n",
        "\n",
        "  def forward(self, x):\n",
        "    x = self.base_net.forward(x)\n",
        "    x = self.l1(x)\n",
        "    return x"
      ],
      "execution_count": null,
      "outputs": []
    },
    {
      "cell_type": "code",
      "metadata": {
        "id": "BfCM3FpWSHV5"
      },
      "source": [
        "def train_multihead(past_examples_percentage=0, epochs=15):\n",
        "  base = FBaseNet().to(device)\n",
        "  heads = []\n",
        "\n",
        "  accs_fine_grid = []\n",
        "\n",
        "  for i in range(tasks_num):\n",
        "    x_train, t_train, _, _ = task_data_with_overlap[i]\n",
        "    model = FHeadNet(base).to(device)\n",
        "    optimizer = optim.SGD(model.parameters(), lr=0.01, momentum=0.9)\n",
        "    heads.append(model)\n",
        "\n",
        "    # concatenate previous tasks\n",
        "    for j in range(0, i + 1):\n",
        "      past_x_train, past_t_train, _, _ = task_data_with_overlap[j]\n",
        "      example_num = int(past_examples_percentage * len(past_t_train))\n",
        "      x_train = np.concatenate((x_train, past_x_train[:example_num]))\n",
        "      t_train = np.concatenate((t_train, past_t_train[:example_num]))\n",
        "\n",
        "    x_train, t_train = shuffle_in_unison([x_train, t_train], 0)\n",
        "\n",
        "    train(model, device, x_train, t_train, optimizer, epochs)\n",
        "    # test on tasks seen so far\n",
        "    accs_subset = []\n",
        "    for j in range(0, i + 1):\n",
        "      _, _, x_test, t_test = task_data_with_overlap[j]\n",
        "      _, test_acc = test(heads[j], device, x_test, t_test)\n",
        "      accs_subset.append(test_acc)\n",
        "\n",
        "    if i < (tasks_num - 1):\n",
        "      accs_subset.extend([np.nan] * (4 - i))\n",
        "    \n",
        "    accs_fine_grid.append(accs_subset)\n",
        "\n",
        "  return accs_fine_grid"
      ],
      "execution_count": null,
      "outputs": []
    },
    {
      "cell_type": "code",
      "metadata": {
        "id": "H-ojgmgbSRs-",
        "colab": {
          "base_uri": "https://localhost:8080/",
          "height": 368
        },
        "outputId": "883f6e08-8063-4c4b-efea-2d0f53b9dc29"
      },
      "source": [
        "accs_naive = train_multihead(epochs=15)\n",
        "accs_rehearsal_all = train_multihead(1, epochs=15)\n",
        "accs_rehearsal_5 = train_multihead(0.05, epochs=15)"
      ],
      "execution_count": null,
      "outputs": [
        {
          "output_type": "stream",
          "text": [
            "Train Epoch: 15 \tLoss: 0.267775\n",
            "Test set: Average loss: 0.0014, Accuracy: 1970/2115 (93%)\n",
            "\n"
          ],
          "name": "stdout"
        },
        {
          "output_type": "error",
          "ename": "TypeError",
          "evalue": "ignored",
          "traceback": [
            "\u001b[0;31m---------------------------------------------------------------------------\u001b[0m",
            "\u001b[0;31mTypeError\u001b[0m                                 Traceback (most recent call last)",
            "\u001b[0;32m<ipython-input-14-edd939f24490>\u001b[0m in \u001b[0;36m<module>\u001b[0;34m()\u001b[0m\n\u001b[0;32m----> 1\u001b[0;31m \u001b[0maccs_naive\u001b[0m \u001b[0;34m=\u001b[0m \u001b[0mtrain_multihead\u001b[0m\u001b[0;34m(\u001b[0m\u001b[0mepochs\u001b[0m\u001b[0;34m=\u001b[0m\u001b[0;36m15\u001b[0m\u001b[0;34m)\u001b[0m\u001b[0;34m\u001b[0m\u001b[0;34m\u001b[0m\u001b[0m\n\u001b[0m\u001b[1;32m      2\u001b[0m \u001b[0maccs_rehearsal_all\u001b[0m \u001b[0;34m=\u001b[0m \u001b[0mtrain_multihead\u001b[0m\u001b[0;34m(\u001b[0m\u001b[0;36m1\u001b[0m\u001b[0;34m,\u001b[0m \u001b[0mepochs\u001b[0m\u001b[0;34m=\u001b[0m\u001b[0;36m15\u001b[0m\u001b[0;34m)\u001b[0m\u001b[0;34m\u001b[0m\u001b[0;34m\u001b[0m\u001b[0m\n\u001b[1;32m      3\u001b[0m \u001b[0maccs_rehearsal_5\u001b[0m \u001b[0;34m=\u001b[0m \u001b[0mtrain_multihead\u001b[0m\u001b[0;34m(\u001b[0m\u001b[0;36m0.05\u001b[0m\u001b[0;34m,\u001b[0m \u001b[0mepochs\u001b[0m\u001b[0;34m=\u001b[0m\u001b[0;36m15\u001b[0m\u001b[0;34m)\u001b[0m\u001b[0;34m\u001b[0m\u001b[0;34m\u001b[0m\u001b[0m\n",
            "\u001b[0;32m<ipython-input-13-1f8b61574e37>\u001b[0m in \u001b[0;36mtrain_multihead\u001b[0;34m(past_examples_percentage, epochs)\u001b[0m\n\u001b[1;32m     25\u001b[0m     \u001b[0;32mfor\u001b[0m \u001b[0mj\u001b[0m \u001b[0;32min\u001b[0m \u001b[0mrange\u001b[0m\u001b[0;34m(\u001b[0m\u001b[0;36m0\u001b[0m\u001b[0;34m,\u001b[0m \u001b[0mi\u001b[0m \u001b[0;34m+\u001b[0m \u001b[0;36m1\u001b[0m\u001b[0;34m)\u001b[0m\u001b[0;34m:\u001b[0m\u001b[0;34m\u001b[0m\u001b[0;34m\u001b[0m\u001b[0m\n\u001b[1;32m     26\u001b[0m       \u001b[0m_\u001b[0m\u001b[0;34m,\u001b[0m \u001b[0m_\u001b[0m\u001b[0;34m,\u001b[0m \u001b[0mx_test\u001b[0m\u001b[0;34m,\u001b[0m \u001b[0mt_test\u001b[0m \u001b[0;34m=\u001b[0m \u001b[0mtask_data_with_overlap\u001b[0m\u001b[0;34m[\u001b[0m\u001b[0mj\u001b[0m\u001b[0;34m]\u001b[0m\u001b[0;34m\u001b[0m\u001b[0;34m\u001b[0m\u001b[0m\n\u001b[0;32m---> 27\u001b[0;31m       \u001b[0m_\u001b[0m\u001b[0;34m,\u001b[0m \u001b[0mtest_acc\u001b[0m \u001b[0;34m=\u001b[0m \u001b[0mtest\u001b[0m\u001b[0;34m(\u001b[0m\u001b[0mheads\u001b[0m\u001b[0;34m[\u001b[0m\u001b[0mj\u001b[0m\u001b[0;34m]\u001b[0m\u001b[0;34m,\u001b[0m \u001b[0mdevice\u001b[0m\u001b[0;34m,\u001b[0m \u001b[0mx_test\u001b[0m\u001b[0;34m,\u001b[0m \u001b[0mt_test\u001b[0m\u001b[0;34m)\u001b[0m\u001b[0;34m\u001b[0m\u001b[0;34m\u001b[0m\u001b[0m\n\u001b[0m\u001b[1;32m     28\u001b[0m       \u001b[0maccs_subset\u001b[0m\u001b[0;34m.\u001b[0m\u001b[0mappend\u001b[0m\u001b[0;34m(\u001b[0m\u001b[0mtest_acc\u001b[0m\u001b[0;34m)\u001b[0m\u001b[0;34m\u001b[0m\u001b[0;34m\u001b[0m\u001b[0m\n\u001b[1;32m     29\u001b[0m \u001b[0;34m\u001b[0m\u001b[0m\n",
            "\u001b[0;31mTypeError\u001b[0m: cannot unpack non-iterable float object"
          ]
        }
      ]
    },
    {
      "cell_type": "code",
      "metadata": {
        "id": "o44jryBjSTuB"
      },
      "source": [
        "fig, axes = plt.subplots(1, 4, figsize=(20, 5))\n",
        "accs_fine_grid = np.array(accs_fine_grid)\n",
        "\n",
        "nan_mask = np.isnan(accs_fine_grid)\n",
        "\n",
        "sns.heatmap(accs_naive, vmin=0, vmax=100, mask=nan_mask, annot=True,fmt='g',\n",
        "            yticklabels=range(1, 6), xticklabels=range(1, 6), ax=axes[0], cbar=False)\n",
        "sns.heatmap(accs_rehearsal_5, vmin=0, vmax=100, mask=nan_mask, annot=True,fmt='g',\n",
        "            yticklabels=range(1, 6), xticklabels=range(1, 6), ax=axes[1], cbar=False)\n",
        "sns.heatmap(accs_rehearsal_all, vmin=0, vmax=100, mask=nan_mask, annot=True,  fmt='g',\n",
        "            yticklabels=range(1, 6), xticklabels=range(1, 6), ax=axes[2], cbar=False)\n",
        "\n",
        "axes[0].set_ylabel('Tested on Task')\n",
        "\n",
        "axes[0].set_xlabel('Naive')\n",
        "axes[1].set_xlabel('Rehearsal 5 %')\n",
        "axes[2].set_xlabel('Rehearsal 100 %')\n",
        "\n",
        "\n",
        "axes[3].plot(range(1, 6), np.nanmean(accs_naive, axis=1))\n",
        "axes[3].plot(range(1, 6), np.nanmean(accs_rehearsal_all, axis=1))\n",
        "axes[3].plot(range(1, 6), np.nanmean(accs_rehearsal_5, axis=1))\n",
        "\n",
        "axes[3].legend(['Naive', 'Rehearsal 100%', 'Rehearsal 5%'])\n",
        "axes[3].set_ylabel('Accumulated Accuracy for Seen Tasks')\n",
        "axes[3].set_xlabel('Task Number')"
      ],
      "execution_count": null,
      "outputs": []
    },
    {
      "cell_type": "markdown",
      "metadata": {
        "id": "aflFpGxVyjd2"
      },
      "source": [
        "Perfect! As you can see the average accuracy on all the tasks is pretty solid. However as discussed at the start, the downside of using such replay methods is the high memory cost depending on the number of samples carried ahead from the previous task. \n",
        "\n",
        "Here are some follow-up questions to brainstorm on:\n",
        "\n",
        "1. Can we make Rehearsal more memory efficient?\n",
        "\n",
        "2. What's a good trade-off between the memory overhead induced by samples from the previous tasks and overall accuracy?"
      ]
    },
    {
      "cell_type": "markdown",
      "metadata": {
        "id": "FV6Eo0VezAcB"
      },
      "source": [
        "## Elastic Weight Consolidation (EWC)\n",
        "\n",
        "EWC is a foundational CL strategy which involves computing the importance of weights of the network relative to the task using the Fisher score and then penalizing the network for changes to the most important weights of the previous task. \n",
        "\n",
        "It was introduced in the paper \"[Overcoming catastrophic forgetting in neural networks\n",
        "](https://arxiv.org/abs/1612.00796)\". \n",
        "\n",
        "The main adavantage of using EWC over Rehearsal is that EWC does not require any data of the previous tasks to be replayed again. "
      ]
    },
    {
      "cell_type": "markdown",
      "metadata": {
        "id": "onTe-GJhI9Jm"
      },
      "source": [
        "First let's creare the dictionaries to store the fisher scores along with the regularizing co-efficient `ewc_lambda` and further reset our model and optimizer."
      ]
    },
    {
      "cell_type": "code",
      "metadata": {
        "id": "0v2hN3KDI8AT"
      },
      "source": [
        "fisher_dict = {}\n",
        "optpar_dict = {}\n",
        "ewc_lambda = 0.4"
      ],
      "execution_count": null,
      "outputs": []
    },
    {
      "cell_type": "code",
      "metadata": {
        "id": "r9Bu7Ci3y_Wx"
      },
      "source": [
        "model = Net().to(device)\n",
        "optimizer = optim.SGD(model.parameters(), lr=0.01, momentum=0.9)"
      ],
      "execution_count": null,
      "outputs": []
    },
    {
      "cell_type": "markdown",
      "metadata": {
        "id": "AMq91quiKdA8"
      },
      "source": [
        "Now we need to define an additional function to compute the fisher information for each weight at the end of each task:"
      ]
    },
    {
      "cell_type": "code",
      "metadata": {
        "id": "Zc-1zppRKggJ"
      },
      "source": [
        "def on_task_update(task_id, x_mem, t_mem):\n",
        "\n",
        "  model.train()\n",
        "  optimizer.zero_grad()\n",
        "  \n",
        "  # accumulating gradients\n",
        "  for start in range(0, len(t_mem)-1, 256):\n",
        "      end = start + 256\n",
        "      x = torch.from_numpy(x_train[start:end]).type(torch.cuda.FloatTensor)\n",
        "      y = torch.from_numpy(t_train[start:end]).long()\n",
        "      x, y = x.to(device), y.to(device)\n",
        "      output = model(x)\n",
        "      loss = F.cross_entropy(output, y)\n",
        "      loss.backward()\n",
        "\n",
        "  fisher_dict[task_id] = {}\n",
        "  optpar_dict[task_id] = {}\n",
        "\n",
        "  # gradients accumulated can be used to calculate fisher\n",
        "  for name, param in model.named_parameters():\n",
        "    \n",
        "    optpar_dict[task_id][name] = param.data.clone()\n",
        "    fisher_dict[task_id][name] = param.grad.data.clone().pow(2)"
      ],
      "execution_count": null,
      "outputs": []
    },
    {
      "cell_type": "markdown",
      "metadata": {
        "id": "L4UrEWrhKn1M"
      },
      "source": [
        "We need also to modify our train function to add the new regularization loss:"
      ]
    },
    {
      "cell_type": "code",
      "metadata": {
        "id": "kRSb7BvSKnLU"
      },
      "source": [
        "def train_ewc(model, device, task_id, x_train, t_train, optimizer, epoch):\n",
        "    model.train()\n",
        "\n",
        "    for start in range(0, len(t_train)-1, 256):\n",
        "      end = start + 256\n",
        "      x = torch.from_numpy(x_train[start:end]).type(torch.cuda.FloatTensor)\n",
        "      y = torch.from_numpy(t_train[start:end]).long()\n",
        "      x, y = x.to(device), y.to(device)\n",
        "      \n",
        "      optimizer.zero_grad()\n",
        "\n",
        "      output = model(x)\n",
        "      loss = F.cross_entropy(output, y)\n",
        "      \n",
        "      ### magic here! :-)\n",
        "      for task in range(task_id):\n",
        "        for name, param in model.named_parameters():\n",
        "          fisher = fisher_dict[task][name]\n",
        "          optpar = optpar_dict[task][name]\n",
        "          loss += (fisher * (optpar - param).pow(2)).sum() * ewc_lambda\n",
        "      \n",
        "      loss.backward()\n",
        "      optimizer.step()\n",
        "      #print(loss.item())\n",
        "    print('Train Epoch: {} \\tLoss: {:.6f}'.format(epoch, loss.item()))"
      ],
      "execution_count": null,
      "outputs": []
    },
    {
      "cell_type": "markdown",
      "metadata": {
        "id": "2fALoEP-KuyT"
      },
      "source": [
        "Finally we can run the train over the three tasks sequence of th Permuted MNIST:"
      ]
    },
    {
      "cell_type": "code",
      "metadata": {
        "id": "AE-xvjoIKtgS",
        "colab": {
          "base_uri": "https://localhost:8080/"
        },
        "outputId": "20f17c64-5c43-463c-e7c9-c022203ef6fd"
      },
      "source": [
        "ewc_accs = []\n",
        "for id, task in enumerate(tasks):\n",
        "  avg_acc = 0\n",
        "  print(\"Training on task: \", id)\n",
        "  \n",
        "  (x_train, t_train), _ = task\n",
        "  \n",
        "  for epoch in range(1, 3):\n",
        "    train_ewc(model, device, id, x_train, t_train, optimizer, epoch)\n",
        "  on_task_update(id, x_train, t_train)\n",
        "    \n",
        "  for id_test, task in enumerate(tasks):\n",
        "    print(\"Testing on task: \", id_test)\n",
        "    _, (x_test, t_test) = task\n",
        "    acc = test(model, device, x_test, t_test)\n",
        "    avg_acc = avg_acc + acc\n",
        "   \n",
        "  print(\"Avg acc: \", avg_acc / 3)\n",
        "  ewc_accs.append(avg_acc / 3)"
      ],
      "execution_count": null,
      "outputs": [
        {
          "output_type": "stream",
          "text": [
            "Training on task:  0\n",
            "Train Epoch: 1 \tLoss: 0.952200\n",
            "Train Epoch: 2 \tLoss: 0.696222\n",
            "Testing on task:  0\n",
            "Test set: Average loss: 0.0002, Accuracy: 9148/10000 (91%)\n",
            "\n",
            "Testing on task:  1\n",
            "Test set: Average loss: 0.0019, Accuracy: 1059/10000 (11%)\n",
            "\n",
            "Testing on task:  2\n",
            "Test set: Average loss: 0.0018, Accuracy: 1006/10000 (10%)\n",
            "\n",
            "Avg acc:  37.37666666666667\n",
            "Training on task:  1\n",
            "Train Epoch: 1 \tLoss: nan\n",
            "Train Epoch: 2 \tLoss: nan\n",
            "Testing on task:  0\n",
            "Test set: Average loss: nan, Accuracy: 980/10000 (10%)\n",
            "\n",
            "Testing on task:  1\n",
            "Test set: Average loss: nan, Accuracy: 980/10000 (10%)\n",
            "\n",
            "Testing on task:  2\n",
            "Test set: Average loss: nan, Accuracy: 980/10000 (10%)\n",
            "\n",
            "Avg acc:  9.8\n",
            "Training on task:  2\n",
            "Train Epoch: 1 \tLoss: nan\n",
            "Train Epoch: 2 \tLoss: nan\n",
            "Testing on task:  0\n",
            "Test set: Average loss: nan, Accuracy: 980/10000 (10%)\n",
            "\n",
            "Testing on task:  1\n",
            "Test set: Average loss: nan, Accuracy: 980/10000 (10%)\n",
            "\n",
            "Testing on task:  2\n",
            "Test set: Average loss: nan, Accuracy: 980/10000 (10%)\n",
            "\n",
            "Avg acc:  9.8\n"
          ],
          "name": "stdout"
        }
      ]
    },
    {
      "cell_type": "markdown",
      "metadata": {
        "id": "B3AgzYLxMHR6"
      },
      "source": [
        "However, there are still some questions that are left to be answered for the efficiency of EWC. We will let you get hands on to answer the same in the next exercise."
      ]
    },
    {
      "cell_type": "markdown",
      "metadata": {
        "id": "qqA6Ajwk1cZ6"
      },
      "source": [
        "## Exercise 2: Test out three different lambda values for EWC and observe their performance.\n",
        "\n"
      ]
    },
    {
      "cell_type": "code",
      "metadata": {
        "id": "-gipUrRwdeQV"
      },
      "source": [
        ""
      ],
      "execution_count": null,
      "outputs": []
    },
    {
      "cell_type": "markdown",
      "metadata": {
        "id": "L0n_QSZYdfUz"
      },
      "source": [
        "### Exercise 2: Name"
      ]
    },
    {
      "cell_type": "markdown",
      "metadata": {
        "id": "SVvOkTqddfUz"
      },
      "source": [
        "---\n",
        "# Section 3: Continual learning benchmarks\n",
        "\n",
        "In this section, we will introduce different ways in which a continual learning problem could be set up."
      ]
    },
    {
      "cell_type": "code",
      "metadata": {
        "colab": {
          "base_uri": "https://localhost:8080/",
          "height": 518
        },
        "id": "Q--kvGB4dfU0",
        "outputId": "6ba25c42-e148-4421-bead-2733d7282b7e"
      },
      "source": [
        "#@title Video 3: Benchmarks and different types of continual learning\n",
        "# Insert the ID of the corresponding youtube video\n",
        "from IPython.display import YouTubeVideo\n",
        "video = YouTubeVideo(id=\"\", width=854, height=480, fs=1)\n",
        "print(\"Video available at https://youtu.be/\" + video.id)\n",
        "video"
      ],
      "execution_count": null,
      "outputs": [
        {
          "output_type": "stream",
          "text": [
            "Video available at https://youtu.be/\n"
          ],
          "name": "stdout"
        },
        {
          "output_type": "execute_result",
          "data": {
            "text/html": [
              "\n",
              "        <iframe\n",
              "            width=\"854\"\n",
              "            height=\"480\"\n",
              "            src=\"https://www.youtube.com/embed/?fs=1\"\n",
              "            frameborder=\"0\"\n",
              "            allowfullscreen\n",
              "        ></iframe>\n",
              "        "
            ],
            "text/plain": [
              "<IPython.lib.display.YouTubeVideo at 0x7ff40144db50>"
            ]
          },
          "metadata": {
            "tags": []
          },
          "execution_count": 34
        }
      ]
    },
    {
      "cell_type": "markdown",
      "metadata": {
        "id": "XzkC2dDgj770"
      },
      "source": [
        "As introduced in the above video, continual learning research certainly does not only use the MNIST dataset.\n",
        "But to make things not more complicated than necessary (and to make sure the examples run in an acceptable amount of time), we continue with the Split MNIST example for now.\n",
        "At the end of this notebook we will take a sneak peak at the CORe50 dataset."
      ]
    },
    {
      "cell_type": "markdown",
      "metadata": {
        "id": "MRqFYgAUGLmI"
      },
      "source": [
        "## Task-incremental Split MNIST *versus* class-incremental Split MNIST\n",
        "\n",
        "First, let's identify according to which scenario the Split MNIST problem in the previous section was performed.\n",
        "\n",
        "Recall that the Split MNIST problem consists of five tasks, whereby each task contains two digits. In the previous section, the model was set-up in such a way that it had a separate output layer for each of these tasks (this is typically called a 'multi-headed output layer'). At test time, the model then used the output layer of the task to which the example to be classified belonged. This means that it was assumed that the model always knows which task it must performed, so this was an example of **task-incremental learning**.\n",
        "\n",
        "In the continual learning literature, a multi-headed output layer is probably the most common way to use task identity information, but it is certainly not the only way (for example, see [this paper](https://doi.org/10.1073/pnas.1803839115))."
      ]
    },
    {
      "cell_type": "markdown",
      "metadata": {
        "id": "gXC6PlqOHZtT"
      },
      "source": [
        "Now, let's reorganize the above Split MNIST problem to set it up as a **class-incremental learning** problem.\n",
        "This means that, after all tasks have been learned, the model must now choose between all ten digits."
      ]
    },
    {
      "cell_type": "code",
      "metadata": {
        "id": "X3-uXuUuj60a"
      },
      "source": [
        "# Define which classes are part of each task\n",
        "classes_per_task = [(0, 1), (2, 3), (4, 5), (6, 7), (8, 9)]\n",
        "\n",
        "# Divde the MNIST dataset in tasks based on the \n",
        "task_data = []\n",
        "for _, classes_in_this_task in enumerate(classes_per_task):\n",
        "  \n",
        "  # Which data-points belong to the classes in the current task?\n",
        "  train_mask = np.isin(t_train, classes_in_this_task)\n",
        "  test_mask = np.isin(t_test, classes_in_this_task)\n",
        "  x_train_task, t_train_task = x_train[train_mask], t_train[train_mask]\n",
        "  x_test_task, t_test_task = x_test[test_mask], t_test[test_mask]\n",
        "\n",
        "  # Add the data for the current task\n",
        "  task_data.append((x_train_task, t_train_task, x_test_task, t_test_task))\n",
        "\n",
        "# In contrast to the task-incremental version of Split MNIST explored in the\n",
        "# last section, now task identity information will not be provided to the model"
      ],
      "execution_count": null,
      "outputs": []
    },
    {
      "cell_type": "markdown",
      "metadata": {
        "id": "IGla_sDMFYwj"
      },
      "source": [
        "## Example: EWC on the class-incremental version of Split MNIST\n",
        "\n",
        "Let's now try the EWC method on this class-incremental version of Split MNIST."
      ]
    },
    {
      "cell_type": "code",
      "metadata": {
        "id": "qSGo3N2ky0fN"
      },
      "source": [
        "#@title EWC class-incremental training functions\n",
        "\n",
        "# Prepare dictionaries needed for EWC\n",
        "fisher_dict = {}\n",
        "optpar_dict = {}\n",
        "\n",
        "# Function to compute Fisher Information matrix after finishing each task\n",
        "def on_task_update(task_id, x_mem, t_mem):\n",
        "\n",
        "  model.train()\n",
        "  optimizer.zero_grad()\n",
        "  \n",
        "  # accumulating gradients\n",
        "  for start in range(0, len(t_mem)-1, 256):\n",
        "      end = start + 256\n",
        "      x = torch.from_numpy(x_train[start:end]).type(torch.cuda.FloatTensor)\n",
        "      y = torch.from_numpy(t_train[start:end]).long()\n",
        "      x, y = x.to(device), y.to(device)\n",
        "      output = model(x)\n",
        "      loss = F.cross_entropy(output, y)\n",
        "      loss.backward()\n",
        "\n",
        "  fisher_dict[task_id] = {}\n",
        "  optpar_dict[task_id] = {}\n",
        "\n",
        "  # gradients accumulated can be used to calculate fisher\n",
        "  for name, param in model.named_parameters():\n",
        "    \n",
        "    optpar_dict[task_id][name] = param.data.clone()\n",
        "    fisher_dict[task_id][name] = param.grad.data.clone().pow(2)\n",
        "\n",
        "# Function to train model for one epoch using EWC\n",
        "def train_ewc(model, device, task_id, x_train, t_train, optimizer, epoch):\n",
        "    model.train()\n",
        "\n",
        "    for start in range(0, len(t_train)-1, 256):\n",
        "      end = start + 256\n",
        "      x = torch.from_numpy(x_train[start:end]).type(torch.cuda.FloatTensor)\n",
        "      y = torch.from_numpy(t_train[start:end]).long()\n",
        "      x, y = x.to(device), y.to(device)\n",
        "      \n",
        "      optimizer.zero_grad()\n",
        "\n",
        "      output = model(x)\n",
        "      loss = F.cross_entropy(output, y)\n",
        "      \n",
        "      ### magic here! :-)\n",
        "      for task in range(task_id):\n",
        "        for name, param in model.named_parameters():\n",
        "          fisher = fisher_dict[task][name]\n",
        "          optpar = optpar_dict[task][name]\n",
        "          loss += (fisher * (optpar - param).pow(2)).sum() * ewc_lambda\n",
        "      \n",
        "      loss.backward()\n",
        "      optimizer.step()\n",
        "    print('Train Epoch: {} \\tLoss: {:.6f}'.format(epoch, loss.item()))"
      ],
      "execution_count": null,
      "outputs": []
    },
    {
      "cell_type": "code",
      "metadata": {
        "id": "jzrP0z2_eGS9"
      },
      "source": [
        "# Define the model and the optimzer\n",
        "model = Net().to(device)\n",
        "optimizer = optim.SGD(model.parameters(), lr=0.001)"
      ],
      "execution_count": null,
      "outputs": []
    },
    {
      "cell_type": "code",
      "metadata": {
        "id": "1R1MAbbDCRYq"
      },
      "source": [
        "# Set 'lambda', the hyperparameter of EWC\n",
        "ewc_lambda = 0.4"
      ],
      "execution_count": null,
      "outputs": []
    },
    {
      "cell_type": "code",
      "metadata": {
        "colab": {
          "base_uri": "https://localhost:8080/"
        },
        "id": "1B0DePOMZysM",
        "outputId": "f8a2d9cf-ed7e-4628-f9f5-225dd16f448e"
      },
      "source": [
        "# Prepare list to store average accuracies after each task\n",
        "ewc_accs = []\n",
        "\n",
        "# Loop through all tasks\n",
        "for id, task in enumerate(task_data):\n",
        "\n",
        "  # Collect training data\n",
        "  x_train, t_train, _, _ = task\n",
        "\n",
        "  # Training with EWC\n",
        "  print(\"Training on task: \", id)\n",
        "  for epoch in range(1, 2):\n",
        "    train_ewc(model, device, id, x_train, t_train, optimizer, epoch)\n",
        "  on_task_update(id, x_train, t_train)\n",
        "  \n",
        "  # Evaluate performance after training on this task\n",
        "  avg_acc = 0\n",
        "  for id_test, task in enumerate(task_data):\n",
        "    print(\"Testing on task: \", id_test)\n",
        "    _, _, x_test, t_test = task\n",
        "    acc = test(model, device, x_test, t_test)\n",
        "    avg_acc = avg_acc + acc\n",
        "   \n",
        "  print(\"Avg acc: \", avg_acc / len(task_data))\n",
        "  ewc_accs.append(avg_acc / len(task_data))"
      ],
      "execution_count": null,
      "outputs": [
        {
          "output_type": "stream",
          "text": [
            "Training on task:  0\n",
            "Train Epoch: 1 \tLoss: 0.370120\n",
            "Testing on task:  0\n",
            "Test set: Average loss: 0.0000, Accuracy: 2112/2115 (100%)\n",
            "\n",
            "Testing on task:  1\n",
            "Test set: Average loss: 0.0091, Accuracy: 0/2042 (0%)\n",
            "\n",
            "Testing on task:  2\n",
            "Test set: Average loss: 0.0076, Accuracy: 0/1874 (0%)\n",
            "\n",
            "Testing on task:  3\n",
            "Test set: Average loss: 0.0109, Accuracy: 0/1986 (0%)\n",
            "\n",
            "Testing on task:  4\n",
            "Test set: Average loss: 0.0083, Accuracy: 0/1983 (0%)\n",
            "\n",
            "Avg acc:  19.97163120567376\n",
            "Training on task:  1\n",
            "Train Epoch: 1 \tLoss: 1.035138\n",
            "Testing on task:  0\n",
            "Test set: Average loss: 0.0046, Accuracy: 0/2115 (0%)\n",
            "\n",
            "Testing on task:  1\n",
            "Test set: Average loss: 0.0002, Accuracy: 1894/2042 (93%)\n",
            "\n",
            "Testing on task:  2\n",
            "Test set: Average loss: 0.0053, Accuracy: 0/1874 (0%)\n",
            "\n",
            "Testing on task:  3\n",
            "Test set: Average loss: 0.0046, Accuracy: 0/1986 (0%)\n",
            "\n",
            "Testing on task:  4\n",
            "Test set: Average loss: 0.0070, Accuracy: 0/1983 (0%)\n",
            "\n",
            "Avg acc:  18.550440744368267\n",
            "Training on task:  2\n",
            "Train Epoch: 1 \tLoss: 1.167552\n",
            "Testing on task:  0\n",
            "Test set: Average loss: 0.0030, Accuracy: 2/2115 (0%)\n",
            "\n",
            "Testing on task:  1\n",
            "Test set: Average loss: 0.0021, Accuracy: 15/2042 (1%)\n",
            "\n",
            "Testing on task:  2\n",
            "Test set: Average loss: 0.0003, Accuracy: 1734/1874 (93%)\n",
            "\n",
            "Testing on task:  3\n",
            "Test set: Average loss: 0.0042, Accuracy: 0/1986 (0%)\n",
            "\n",
            "Testing on task:  4\n",
            "Test set: Average loss: 0.0061, Accuracy: 0/1983 (0%)\n",
            "\n",
            "Avg acc:  18.67169711619815\n",
            "Training on task:  3\n",
            "Train Epoch: 1 \tLoss: 1.518956\n",
            "Testing on task:  0\n",
            "Test set: Average loss: 0.0018, Accuracy: 135/2115 (6%)\n",
            "\n",
            "Testing on task:  1\n",
            "Test set: Average loss: 0.0017, Accuracy: 98/2042 (5%)\n",
            "\n",
            "Testing on task:  2\n",
            "Test set: Average loss: 0.0016, Accuracy: 131/1874 (7%)\n",
            "\n",
            "Testing on task:  3\n",
            "Test set: Average loss: 0.0004, Accuracy: 1883/1986 (95%)\n",
            "\n",
            "Testing on task:  4\n",
            "Test set: Average loss: 0.0021, Accuracy: 2/1983 (0%)\n",
            "\n",
            "Avg acc:  22.61742864263304\n",
            "Training on task:  4\n",
            "Train Epoch: 1 \tLoss: 2.323961\n",
            "Testing on task:  0\n",
            "Test set: Average loss: 0.0016, Accuracy: 326/2115 (15%)\n",
            "\n",
            "Testing on task:  1\n",
            "Test set: Average loss: 0.0018, Accuracy: 12/2042 (1%)\n",
            "\n",
            "Testing on task:  2\n",
            "Test set: Average loss: 0.0019, Accuracy: 40/1874 (2%)\n",
            "\n",
            "Testing on task:  3\n",
            "Test set: Average loss: 0.0014, Accuracy: 344/1986 (17%)\n",
            "\n",
            "Testing on task:  4\n",
            "Test set: Average loss: 0.0008, Accuracy: 1537/1983 (78%)\n",
            "\n",
            "Avg acc:  22.59318324273162\n"
          ],
          "name": "stdout"
        }
      ]
    },
    {
      "cell_type": "markdown",
      "metadata": {
        "id": "2T0-WXhzH5BO"
      },
      "source": [
        "That didn't work well..."
      ]
    },
    {
      "cell_type": "markdown",
      "metadata": {
        "id": "nVbY1tKJw7fC"
      },
      "source": [
        "The model only correctly predicts the classes from the last task it has seen, all earlier seen classes seem to be forgotten."
      ]
    },
    {
      "cell_type": "markdown",
      "metadata": {
        "id": "Qa3ButOZNnVo"
      },
      "source": [
        "You might wonder whether the reason that EWC performed so badly in the above example is because we chose an unsuitable value for the hyperparameter lambda.\n",
        "Although we don't have time to demonstrate this, there are no values of lambda that would lead to good performance.\n",
        "\n",
        "In general, parameter regularization based methods, such as EWC, have been found not to work well on class-incremental learning problems, as for example illustrated in [this paper](https://arxiv.org/abs/1904.07734)."
      ]
    },
    {
      "cell_type": "markdown",
      "metadata": {
        "id": "FLk5sA8FCSjG"
      },
      "source": [
        "## Exercise 3.1: Test replay on the class-incremental version of Split MNIST\n",
        "\n",
        "Let's try whether the replay strategy works better. Could you adapt the code below to test replay on the class-incremental version of Split MNIST?"
      ]
    },
    {
      "cell_type": "code",
      "metadata": {
        "id": "ZawGfSACCvYU",
        "colab": {
          "base_uri": "https://localhost:8080/"
        },
        "outputId": "6d3cb674-cc44-419d-a1c7-cfba31eea65b"
      },
      "source": [
        "# Define the model and the optimizer\n",
        "model = Net().to(device)\n",
        "optimizer = optim.SGD(model.parameters(), lr=0.01)\n",
        "\n",
        "# Prepare list to store average accuracies after each task\n",
        "rehe_accs = []\n",
        "\n",
        "# Loop through all tasks\n",
        "for id, task in enumerate(task_data):\n",
        "  \n",
        "  # Collect training data\n",
        "  x_train, t_train, _, _ = task\n",
        "  \n",
        "  # Add replay\n",
        "  for i in range(id):\n",
        "    past_x_train, past_t_train, _, _ = task_data[i]\n",
        "    x_train = np.concatenate((x_train, past_x_train))\n",
        "    t_train = np.concatenate((t_train, past_t_train))\n",
        "  x_train, t_train = shuffle_in_unison([x_train, t_train], 0)\n",
        "  \n",
        "  # Training\n",
        "  print(\"Training on task: \", id)\n",
        "  for epoch in range(1, 3):\n",
        "    train(model, device, x_train, t_train, optimizer, epoch)\n",
        "  \n",
        "  # Evaluate performance after training on this task\n",
        "  avg_acc = 0\n",
        "  for id_test, task in enumerate(task_data):\n",
        "    print(\"Testing on task: \", id_test)\n",
        "    _, _, x_test, t_test = task\n",
        "    acc = test(model, device, x_test, t_test)\n",
        "    avg_acc = avg_acc + acc\n",
        "   \n",
        "  print(\"Avg acc: \", avg_acc / len(task_data))\n",
        "  rehe_accs.append(avg_acc/len(task_data))"
      ],
      "execution_count": null,
      "outputs": [
        {
          "output_type": "stream",
          "text": [
            "Training on task:  0\n",
            "Train Epoch: 1 \tLoss: 0.052662\n",
            "Train Epoch: 2 \tLoss: 0.002763\n",
            "Testing on task:  0\n",
            "Test set: Average loss: 0.0000, Accuracy: 2112/2115 (100%)\n",
            "\n",
            "Testing on task:  1\n",
            "Test set: Average loss: 0.0118, Accuracy: 0/2042 (0%)\n",
            "\n",
            "Testing on task:  2\n",
            "Test set: Average loss: 0.0104, Accuracy: 0/1874 (0%)\n",
            "\n",
            "Testing on task:  3\n",
            "Test set: Average loss: 0.0134, Accuracy: 0/1986 (0%)\n",
            "\n",
            "Testing on task:  4\n",
            "Test set: Average loss: 0.0097, Accuracy: 0/1983 (0%)\n",
            "\n",
            "Avg acc:  19.97163120567376\n",
            "Training on task:  1\n",
            "Train Epoch: 1 \tLoss: 0.359313\n",
            "Train Epoch: 2 \tLoss: 0.282080\n",
            "Testing on task:  0\n",
            "Test set: Average loss: 0.0000, Accuracy: 2096/2115 (99%)\n",
            "\n",
            "Testing on task:  1\n",
            "Test set: Average loss: 0.0000, Accuracy: 1972/2042 (97%)\n",
            "\n",
            "Testing on task:  2\n",
            "Test set: Average loss: 0.0036, Accuracy: 0/1874 (0%)\n",
            "\n",
            "Testing on task:  3\n",
            "Test set: Average loss: 0.0034, Accuracy: 0/1986 (0%)\n",
            "\n",
            "Testing on task:  4\n",
            "Test set: Average loss: 0.0035, Accuracy: 0/1983 (0%)\n",
            "\n",
            "Avg acc:  39.134728618630504\n",
            "Training on task:  2\n",
            "Train Epoch: 1 \tLoss: 0.391220\n",
            "Train Epoch: 2 \tLoss: 0.357349\n",
            "Testing on task:  0\n",
            "Test set: Average loss: 0.0000, Accuracy: 2101/2115 (99%)\n",
            "\n",
            "Testing on task:  1\n",
            "Test set: Average loss: 0.0000, Accuracy: 1992/2042 (98%)\n",
            "\n",
            "Testing on task:  2\n",
            "Test set: Average loss: 0.0000, Accuracy: 1805/1874 (96%)\n",
            "\n",
            "Testing on task:  3\n",
            "Test set: Average loss: 0.0025, Accuracy: 0/1986 (0%)\n",
            "\n",
            "Testing on task:  4\n",
            "Test set: Average loss: 0.0021, Accuracy: 0/1983 (0%)\n",
            "\n",
            "Avg acc:  58.641503585607595\n",
            "Training on task:  3\n",
            "Train Epoch: 1 \tLoss: 0.359518\n",
            "Train Epoch: 2 \tLoss: 0.301457\n",
            "Testing on task:  0\n",
            "Test set: Average loss: 0.0000, Accuracy: 2094/2115 (99%)\n",
            "\n",
            "Testing on task:  1\n",
            "Test set: Average loss: 0.0000, Accuracy: 1980/2042 (97%)\n",
            "\n",
            "Testing on task:  2\n",
            "Test set: Average loss: 0.0000, Accuracy: 1824/1874 (97%)\n",
            "\n",
            "Testing on task:  3\n",
            "Test set: Average loss: 0.0000, Accuracy: 1903/1986 (96%)\n",
            "\n",
            "Testing on task:  4\n",
            "Test set: Average loss: 0.0015, Accuracy: 0/1983 (0%)\n",
            "\n",
            "Avg acc:  77.82470175717884\n",
            "Training on task:  4\n",
            "Train Epoch: 1 \tLoss: 0.642164\n",
            "Train Epoch: 2 \tLoss: 0.559929\n",
            "Testing on task:  0\n",
            "Test set: Average loss: 0.0000, Accuracy: 2089/2115 (99%)\n",
            "\n",
            "Testing on task:  1\n",
            "Test set: Average loss: 0.0000, Accuracy: 1983/2042 (97%)\n",
            "\n",
            "Testing on task:  2\n",
            "Test set: Average loss: 0.0000, Accuracy: 1790/1874 (96%)\n",
            "\n",
            "Testing on task:  3\n",
            "Test set: Average loss: 0.0000, Accuracy: 1918/1986 (97%)\n",
            "\n",
            "Testing on task:  4\n",
            "Test set: Average loss: 0.0000, Accuracy: 1865/1983 (94%)\n",
            "\n",
            "Avg acc:  96.40488461501647\n"
          ],
          "name": "stdout"
        }
      ]
    },
    {
      "cell_type": "code",
      "metadata": {
        "id": "JRC_Lu_sNg7F"
      },
      "source": [
        "# to_remove solution"
      ],
      "execution_count": null,
      "outputs": []
    },
    {
      "cell_type": "markdown",
      "metadata": {
        "id": "URfvDA_edlLf"
      },
      "source": [
        "And finally, let's compare the performance of EWC and Replay on the class-incremental version of Split MNIST in a plot:"
      ]
    },
    {
      "cell_type": "code",
      "metadata": {
        "colab": {
          "base_uri": "https://localhost:8080/",
          "height": 430
        },
        "id": "bDatIZsvdNcQ",
        "outputId": "a18d5ec5-8695-4978-fe5f-e6844b0d5aba"
      },
      "source": [
        "plt.plot([1, 2, 3, 4, 5], rehe_accs, '-o', label=\"Rehearsal\")\n",
        "plt.plot([1, 2, 3, 4, 5], ewc_accs, '-o', label=\"EWC\")\n",
        "plt.xlabel('Tasks Encountered', fontsize=14)\n",
        "plt.ylabel('Average Accuracy', fontsize=14)\n",
        "plt.title('CL Strategies on Class-incremental version of Split MNIST',\n",
        "          fontsize=14);\n",
        "plt.xticks([1, 2, 3, 4, 5])\n",
        "plt.legend(prop={'size': 16});"
      ],
      "execution_count": null,
      "outputs": [
        {
          "output_type": "display_data",
          "data": {
            "image/png": "[encoded data removed]",
            "text/plain": [
              "<Figure size 576x432 with 1 Axes>"
            ]
          },
          "metadata": {
            "tags": [],
            "image/png": {
              "width": 558,
              "height": 413
            },
            "needs_background": "light"
          }
        }
      ]
    },
    {
      "cell_type": "markdown",
      "metadata": {
        "id": "XeXNSJ23dfU1"
      },
      "source": [
        "## Exercise 3.2: Identify the scenario of the permuted MNIST example from Section 1\n",
        "\n",
        "What type of 'scenario' was the permuted MNIST problem that was introduced in Section 1? Was it task-incremental, domain-incremental or class-incremental? Try to motivate your answer."
      ]
    },
    {
      "cell_type": "code",
      "metadata": {
        "id": "mYY7mslAJmNu"
      },
      "source": [
        "# to_remove explanation\n",
        "\n",
        "'''\n",
        "The Permuted MNIST problem in Section 1 is an example of domain-incremental\n",
        "learning.\n",
        "\n",
        "Recall that this problem consisted of two tasks: normal MNIST (task 1) and MNIST\n",
        "with permuted input images (task 2).\n",
        "After learning both task, when the model is evaluated, the model is not told to\n",
        "which task an image belongs (i.e., the model is not told whether the image be\n",
        "classified is permuted or not), but the model also does not need to identify to\n",
        "which task an image belongs (i.e., the model does not need to predict whether\n",
        "the image to be classified has permuted pixels or not; it only needs to predict\n",
        "the original digit displayed in the image).\n",
        "\n",
        "Another way to motivate that this problem is an example of domain-incremental\n",
        "learning, is to say that in both task 1 (normal MNIST) and task 2 (MNIST with\n",
        "permuted input images), the 'type of problem' is the same (i.e., identify the\n",
        "digit displayed in the original image), but the 'context' is changing (i.e.,\n",
        "the order in which the image pixels are presented).\n",
        "''';"
      ],
      "execution_count": null,
      "outputs": []
    },
    {
      "cell_type": "markdown",
      "metadata": {
        "id": "l8Yi2eWBeDtL"
      },
      "source": [
        "---\n",
        "# Section 4: Evaluation of continual learning algorithms\n",
        "\n",
        "Understanding how your CL algorithm is performing is key to gain insights on its behavior and to decide how to improve it. \n",
        "\n",
        "Here, we will focus on how to build some of the most important CL metrics!"
      ]
    },
    {
      "cell_type": "code",
      "metadata": {
        "colab": {
          "base_uri": "https://localhost:8080/",
          "height": 518
        },
        "id": "oYQ57DaHeDtM",
        "outputId": "0f7ceea8-d488-4dcc-b82a-a7117a53fab2"
      },
      "source": [
        "#@title Video 2: Continual Learning Evaluation\n",
        "# Insert the ID of the corresponding youtube video\n",
        "from IPython.display import YouTubeVideo\n",
        "video = YouTubeVideo(id=\"\", width=854, height=480, fs=1)\n",
        "print(\"Video available at https://youtu.be/\" + video.id)\n",
        "video"
      ],
      "execution_count": null,
      "outputs": [
        {
          "output_type": "stream",
          "text": [
            "Video available at https://youtu.be/\n"
          ],
          "name": "stdout"
        },
        {
          "output_type": "execute_result",
          "data": {
            "text/html": [
              "\n",
              "        <iframe\n",
              "            width=\"854\"\n",
              "            height=\"480\"\n",
              "            src=\"https://www.youtube.com/embed/?fs=1\"\n",
              "            frameborder=\"0\"\n",
              "            allowfullscreen\n",
              "        ></iframe>\n",
              "        "
            ],
            "text/plain": [
              "<IPython.lib.display.YouTubeVideo at 0x7f3fde86bfd0>"
            ]
          },
          "metadata": {
            "tags": []
          },
          "execution_count": 9
        }
      ]
    },
    {
      "cell_type": "markdown",
      "metadata": {
        "id": "vIkIhxHUMAtl"
      },
      "source": [
        "We have already trained the model on T tasks and recorded all the accuracy values in a single TxT matrix."
      ]
    },
    {
      "cell_type": "code",
      "metadata": {
        "id": "mLUd1u7tJUY3"
      },
      "source": [
        "import numpy as np\n",
        "from torch.nn import CrossEntropyLoss\n",
        "from torch.optim import SGD"
      ],
      "execution_count": null,
      "outputs": []
    },
    {
      "cell_type": "markdown",
      "metadata": {
        "id": "Ah-AfmB1eNVD"
      },
      "source": [
        "## Average Accuracy\n",
        "\n",
        "The Average Accuracy (ACC) metric computes the average accuracy over all tasks after training on all tasks."
      ]
    },
    {
      "cell_type": "code",
      "metadata": {
        "id": "3Fac7zz4eNVC"
      },
      "source": [
        "def ACC(result_matrix):\n",
        "  \"\"\"\n",
        "  Average Accuracy metric\n",
        "\n",
        "  :param result_matrix: TxT matrix containing accuracy values in each (i, j) entry.\n",
        "    (i, j) -> test accuracy on task j after training on task i\n",
        "  \"\"\"\n",
        "\n",
        "  final_accs = result_matrix[-1, :]  # take accuracies after final training\n",
        "  acc = np.mean(final_accs)  # compute average\n",
        "  return acc, final_accs"
      ],
      "execution_count": null,
      "outputs": []
    },
    {
      "cell_type": "markdown",
      "metadata": {
        "id": "y4y9lEBoJry1"
      },
      "source": [
        "## Backward Transfer\n",
        "\n",
        "The Backward Transfer (BWT) metric of task i computes the accuracy on task i after training on last task **minus** the accuracy on task i after training on task i.\n",
        "\n",
        "To get the average BWT you have to average across all tasks.\n",
        "\n",
        "**Negative BWT expresses the amount of forgetting suffered by the algorithm.**\n"
      ]
    },
    {
      "cell_type": "code",
      "metadata": {
        "id": "OcnEmkzZKI7e"
      },
      "source": [
        "def BWT(result_matrix):\n",
        "  \"\"\"\n",
        "  Backward Transfer metric\n",
        "\n",
        "  :param result_matrix: TxT matrix containing accuracy values in each (i, j) entry.\n",
        "    (i, j) -> test accuracy on task j after training on task i\n",
        "  \"\"\"\n",
        "\n",
        "  final_accs = result_matrix[-1, :]  # take accuracies after final training\n",
        "  # accuracies on task i right after training on task i, for all i\n",
        "  training_accs = np.diag(result_matrix)  \n",
        "  task_bwt = final_accs - training_accs  # BWT for each task\n",
        "  average_bwt = np.mean(task_bwt)  # compute average\n",
        "  return average_bwt, task_bwt"
      ],
      "execution_count": null,
      "outputs": []
    },
    {
      "cell_type": "markdown",
      "metadata": {
        "id": "aCRc6Bs-LAZk"
      },
      "source": [
        "## Forward Transfer\n",
        "\n",
        "The Forward Transfer (FWT) metric of task i computes the accuracy on task i after training on task i-1 **minus** the accuracy on experience i at model initialization (before training on any task).\n",
        "\n",
        "To get the average FWT you have to average across all tasks, **but the first** (i=2,...,T).\n",
        "\n",
        "For randomly initialized models, the accuracies before training should be equal to the random accuracy. E.g. tasks with 10-way classification = accuracy 0.1 (10%)"
      ]
    },
    {
      "cell_type": "code",
      "metadata": {
        "id": "ItFoL6sdLbOa"
      },
      "source": [
        "def FWT(result_matrix, init_accs):\n",
        "  \"\"\"\n",
        "  Forward Transfer metric\n",
        "\n",
        "  :param result_matrix: TxT matrix containing accuracy values in each (i, j) entry.\n",
        "    (i, j) -> test accuracy on task j after training on task i\n",
        "  :param init_accs: array containing accuracies on each task before training\n",
        "    on any task (at model initialization).\n",
        "  \"\"\"\n",
        "\n",
        "  forward_values = []  # list gathering first component of FWT\n",
        "  for i in range(1, result_matrix.shape[0]):  # loop over all tasks but the first\n",
        "    acc = result_matrix[i-1, i]\n",
        "    forward_values.append(acc)\n",
        "  forward_values = np.array(forward_values, dtype=np.float32)\n",
        "\n",
        "  task_fwt = forward_values - init_accs  # FWT for each task\n",
        "  average_bwt = np.mean(task_fwt)  # compute average\n",
        "  return average_fwt, task_fwt"
      ],
      "execution_count": null,
      "outputs": []
    },
    {
      "cell_type": "markdown",
      "metadata": {
        "id": "rWzx2B0vRiQ4"
      },
      "source": [
        "## Exercise: evaluate your CL algorithm on a benchmark"
      ]
    },
    {
      "cell_type": "markdown",
      "metadata": {
        "id": "OGusfIgQbTMv"
      },
      "source": [
        "You should replace the `None` values with your code. This is the only cell you have to modify :)"
      ]
    },
    {
      "cell_type": "code",
      "metadata": {
        "id": "rIqAQfJxNTwy"
      },
      "source": [
        "# put here how many tasks do you have in your benchmark\n",
        "n_tasks = None \n",
        "\n",
        "# put here the random accuracy on each task (i.e. 1 / num classes in the task)\n",
        "random_acc = None \n",
        "\n",
        "\n",
        "\n",
        "def train_model():\n",
        "  \"\"\"Train a model with a CL algorithm of your choice on a chosen CL benchmark.\n",
        "     The benchmark will have T tasks.\n",
        "\n",
        "  Returns:\n",
        "    result_matrix: TxT matrix of accuracies. Each (i,j) element is the accuracy\n",
        "        on task j after training on task i\n",
        "  \"\"\"Created using Colaboratory\n",
        "  #################################################\n",
        "  ##  ##\n",
        "  # Fill out function and remove\n",
        "  raise NotImplementedError(\"You should train a model on a benchmark with a CL\"\n",
        "                             \"strategy and return the matrix of accuracies on all\"\n",
        "                             \"tasks after training on each task.\")\n",
        "  \n",
        "  model = Net().to(device)\n",
        "  optimizer = SGD(model.parameters(), lr=0.01, momentum=0.9)  \n",
        "  criterion = CrossEntropyLoss()\n",
        "  \n",
        "  benchmark = None  # define your CL benchmark\n",
        "  strategy = None  # define your CL strategy\n",
        "\n",
        "  # train the model on the benchmark with the strategy and get the result\n",
        "\n",
        "  result_matrix = None\n",
        "\n",
        "  return result_matrix"
      ],
      "execution_count": null,
      "outputs": []
    },
    {
      "cell_type": "markdown",
      "metadata": {
        "id": "mtspBmCwb07x"
      },
      "source": [
        "You **don't** need to modify the next cell, just execute it to see metrics in action!"
      ]
    },
    {
      "cell_type": "code",
      "metadata": {
        "id": "rinIaycUbz7Y"
      },
      "source": [
        "# here compute the result matrix containing all the accuracy values on a strategy\n",
        "# and CL benchmark of your choice. \n",
        "result_matrix = train_model()\n",
        "\n",
        "if result_matrix is None or n_tasks is None or random_acc is None:\n",
        "  raise ValueError(\"You should fill the values of `result_matrix`, `n_tasks` and `random_acc` first.\")\n",
        "\n",
        "# print Average Accuracy metric\n",
        "acc, final_accs = ACC(result_matrix)\n",
        "print(acc, final_accs)\n",
        "\n",
        "# print Backward Transfer metric\n",
        "bwt, bwt_task = BWT(result_matrix)\n",
        "print(bwt, bwt_task)\n",
        "\n",
        "# print Forward Transfer metric\n",
        "fwt, fwt_task = FWT(result_matrix, np.array([float(random_acc)]*n_tasks))\n",
        "print(fwt, fwt_task)"
      ],
      "execution_count": null,
      "outputs": []
    },
    {
      "cell_type": "markdown",
      "metadata": {
        "id": "6qNUqAR1epWZ"
      },
      "source": [
        "---\n",
        "# Section 5: Continual Learning Applications\n",
        "\n",
        "Continual Learning with deep architectures may help us develop sustainable AI systems that can efficiently improve their skills and knowledge over time, adapting to ever-changing environments and learning objectives. In this section we will discuss about intriguing real-world applications that would highly benefit from recent advances in Continual Learning."
      ]
    },
    {
      "cell_type": "code",
      "metadata": {
        "colab": {
          "base_uri": "https://localhost:8080/",
          "height": 518
        },
        "id": "LgYWQPQ0epWa",
        "outputId": "0f7ceea8-d488-4dcc-b82a-a7117a53fab2"
      },
      "source": [
        "#@title Video 2: Continual Learning Applications\n",
        "# Insert the ID of the corresponding youtube video\n",
        "from IPython.display import YouTubeVideo\n",
        "video = YouTubeVideo(id=\"\", width=854, height=480, fs=1)\n",
        "print(\"Video available at https://youtu.be/\" + video.id)\n",
        "video"
      ],
      "execution_count": null,
      "outputs": [
        {
          "output_type": "stream",
          "text": [
            "Video available at https://youtu.be/\n"
          ],
          "name": "stdout"
        },
        {
          "output_type": "execute_result",
          "data": {
            "text/html": [
              "\n",
              "        <iframe\n",
              "            width=\"854\"\n",
              "            height=\"480\"\n",
              "            src=\"https://www.youtube.com/embed/?fs=1\"\n",
              "            frameborder=\"0\"\n",
              "            allowfullscreen\n",
              "        ></iframe>\n",
              "        "
            ],
            "text/plain": [
              "<IPython.lib.display.YouTubeVideo at 0x7f3fde86bfd0>"
            ]
          },
          "metadata": {
            "tags": []
          },
          "execution_count": 9
        }
      ]
    },
    {
      "cell_type": "markdown",
      "metadata": {
        "id": "RIZIDuArkT-A"
      },
      "source": [
        "**CORe50** is an interesting rea-world video dataset composed of 50 domestic objects belonging to 10 different categories and specifically designed for Continual Learning.\n",
        "\n",
        "You can find more information about the dataset and benchmark in its [official website](https://vlomonaco.github.io/core50). \n",
        "\n",
        "Here we will use the [Avalanche library](https://avalanche.continualai.org) to automatically download and use this dataset."
      ]
    },
    {
      "cell_type": "code",
      "metadata": {
        "id": "hGMOIjISkXFt"
      },
      "source": [
        "import torch"
      ],
      "execution_count": null,
      "outputs": []
    },
    {
      "cell_type": "code",
      "metadata": {
        "colab": {
          "base_uri": "https://localhost:8080/"
        },
        "id": "U7iqn3OYAbjw",
        "outputId": "0be7cade-527c-4f08-8728-986fe0f33ba8"
      },
      "source": [
        "pip install git+https://github.com/ContinualAI/avalanche.git"
      ],
      "execution_count": null,
      "outputs": [
        {
          "output_type": "stream",
          "text": [
            "Collecting git+https://github.com/ContinualAI/avalanche.git\n",
            "  Cloning https://github.com/ContinualAI/avalanche.git to /tmp/pip-req-build-oxud0mpg\n",
            "  Running command git clone -q https://github.com/ContinualAI/avalanche.git /tmp/pip-req-build-oxud0mpg\n",
            "  Installing build dependencies ... \u001b[?25l\u001b[?25hdone\n",
            "  Getting requirements to build wheel ... \u001b[?25l\u001b[?25hdone\n",
            "    Preparing wheel metadata ... \u001b[?25l\u001b[?25hdone\n",
            "Requirement already satisfied: scikit-learn in /usr/local/lib/python3.7/dist-packages (from avalanche==0.0.1) (0.22.2.post1)\n",
            "Collecting quadprog\n",
            "\u001b[?25l  Downloading https://files.pythonhosted.org/packages/31/c7/833d7b5b53fff5b9042803aa8096207d8e038ca42052f074d4ad8cddbfc5/quadprog-0.1.8.tar.gz (269kB)\n",
            "\u001b[K     |████████████████████████████████| 276kB 2.1MB/s \n",
            "\u001b[?25hCollecting gputil\n",
            "  Downloading https://files.pythonhosted.org/packages/ed/0e/5c61eedde9f6c87713e89d794f01e378cfd9565847d4576fa627d758c554/GPUtil-1.4.0.tar.gz\n",
            "Collecting pytorchcv\n",
            "\u001b[?25l  Downloading https://files.pythonhosted.org/packages/44/74/e5dae0875679d296fa9a3833041699cee9222e2d3dd1f9ae1ded050b5672/pytorchcv-0.0.65-py2.py3-none-any.whl (527kB)\n",
            "\u001b[K     |████████████████████████████████| 532kB 32.1MB/s \n",
            "\u001b[?25hRequirement already satisfied: numpy in /usr/local/lib/python3.7/dist-packages (from avalanche==0.0.1) (1.19.5)\n",
            "Collecting wandb\n",
            "\u001b[?25l  Downloading https://files.pythonhosted.org/packages/98/5f/45439b4767334b868e1c8c35b1b0ba3747d8c21be77b79f09eed7aa3c72b/wandb-0.10.30-py2.py3-none-any.whl (1.8MB)\n",
            "\u001b[K     |████████████████████████████████| 1.8MB 33.7MB/s \n",
            "\u001b[?25hRequirement already satisfied: typing-extensions in /usr/local/lib/python3.7/dist-packages (from avalanche==0.0.1) (3.7.4.3)\n",
            "Requirement already satisfied: psutil in /usr/local/lib/python3.7/dist-packages (from avalanche==0.0.1) (5.4.8)\n",
            "Requirement already satisfied: matplotlib in /usr/local/lib/python3.7/dist-packages (from avalanche==0.0.1) (3.2.2)\n",
            "Requirement already satisfied: tensorboard in /usr/local/lib/python3.7/dist-packages (from avalanche==0.0.1) (2.5.0)\n",
            "Requirement already satisfied: scipy>=0.17.0 in /usr/local/lib/python3.7/dist-packages (from scikit-learn->avalanche==0.0.1) (1.4.1)\n",
            "Requirement already satisfied: joblib>=0.11 in /usr/local/lib/python3.7/dist-packages (from scikit-learn->avalanche==0.0.1) (1.0.1)\n",
            "Requirement already satisfied: Cython in /usr/local/lib/python3.7/dist-packages (from quadprog->avalanche==0.0.1) (0.29.23)\n",
            "Requirement already satisfied: requests in /usr/local/lib/python3.7/dist-packages (from pytorchcv->avalanche==0.0.1) (2.23.0)\n",
            "Collecting GitPython>=1.0.0\n",
            "\u001b[?25l  Downloading https://files.pythonhosted.org/packages/27/da/6f6224fdfc47dab57881fe20c0d1bc3122be290198ba0bf26a953a045d92/GitPython-3.1.17-py3-none-any.whl (166kB)\n",
            "\u001b[K     |████████████████████████████████| 174kB 38.6MB/s \n",
            "\u001b[?25hCollecting configparser>=3.8.1\n",
            "  Downloading https://files.pythonhosted.org/packages/fd/01/ff260a18caaf4457eb028c96eeb405c4a230ca06c8ec9c1379f813caa52e/configparser-5.0.2-py3-none-any.whl\n",
            "Requirement already satisfied: protobuf>=3.12.0 in /usr/local/lib/python3.7/dist-packages (from wandb->avalanche==0.0.1) (3.12.4)\n",
            "Collecting pathtools\n",
            "  Downloading https://files.pythonhosted.org/packages/e7/7f/470d6fcdf23f9f3518f6b0b76be9df16dcc8630ad409947f8be2eb0ed13a/pathtools-0.1.2.tar.gz\n",
            "Requirement already satisfied: Click>=7.0 in /usr/local/lib/python3.7/dist-packages (from wandb->avalanche==0.0.1) (7.1.2)\n",
            "Requirement already satisfied: PyYAML in /usr/local/lib/python3.7/dist-packages (from wandb->avalanche==0.0.1) (3.13)\n",
            "Collecting sentry-sdk>=0.4.0\n",
            "\u001b[?25l  Downloading https://files.pythonhosted.org/packages/1c/4a/a54b254f67d8f4052338d54ebe90126f200693440a93ef76d254d581e3ec/sentry_sdk-1.1.0-py2.py3-none-any.whl (131kB)\n",
            "\u001b[K     |████████████████████████████████| 133kB 36.8MB/s \n",
            "\u001b[?25hCollecting docker-pycreds>=0.4.0\n",
            "  Downloading https://files.pythonhosted.org/packages/f5/e8/f6bd1eee09314e7e6dee49cbe2c5e22314ccdb38db16c9fc72d2fa80d054/docker_pycreds-0.4.0-py2.py3-none-any.whl\n",
            "Collecting subprocess32>=3.5.3\n",
            "\u001b[?25l  Downloading https://files.pythonhosted.org/packages/32/c8/564be4d12629b912ea431f1a50eb8b3b9d00f1a0b1ceff17f266be190007/subprocess32-3.5.4.tar.gz (97kB)\n",
            "\u001b[K     |████████████████████████████████| 102kB 10.1MB/s \n",
            "\u001b[?25hRequirement already satisfied: six>=1.13.0 in /usr/local/lib/python3.7/dist-packages (from wandb->avalanche==0.0.1) (1.15.0)\n",
            "Collecting shortuuid>=0.5.0\n",
            "  Downloading https://files.pythonhosted.org/packages/25/a6/2ecc1daa6a304e7f1b216f0896b26156b78e7c38e1211e9b798b4716c53d/shortuuid-1.0.1-py3-none-any.whl\n",
            "Requirement already satisfied: python-dateutil>=2.6.1 in /usr/local/lib/python3.7/dist-packages (from wandb->avalanche==0.0.1) (2.8.1)\n",
            "Requirement already satisfied: promise<3,>=2.0 in /usr/local/lib/python3.7/dist-packages (from wandb->avalanche==0.0.1) (2.3)\n",
            "Requirement already satisfied: pyparsing!=2.0.4,!=2.1.2,!=2.1.6,>=2.0.1 in /usr/local/lib/python3.7/dist-packages (from matplotlib->avalanche==0.0.1) (2.4.7)\n",
            "Requirement already satisfied: cycler>=0.10 in /usr/local/lib/python3.7/dist-packages (from matplotlib->avalanche==0.0.1) (0.10.0)\n",
            "Requirement already satisfied: kiwisolver>=1.0.1 in /usr/local/lib/python3.7/dist-packages (from matplotlib->avalanche==0.0.1) (1.3.1)\n",
            "Requirement already satisfied: tensorboard-data-server<0.7.0,>=0.6.0 in /usr/local/lib/python3.7/dist-packages (from tensorboard->avalanche==0.0.1) (0.6.1)\n",
            "Requirement already satisfied: absl-py>=0.4 in /usr/local/lib/python3.7/dist-packages (from tensorboard->avalanche==0.0.1) (0.12.0)\n",
            "Requirement already satisfied: grpcio>=1.24.3 in /usr/local/lib/python3.7/dist-packages (from tensorboard->avalanche==0.0.1) (1.34.1)\n",
            "Requirement already satisfied: tensorboard-plugin-wit>=1.6.0 in /usr/local/lib/python3.7/dist-packages (from tensorboard->avalanche==0.0.1) (1.8.0)\n",
            "Requirement already satisfied: google-auth-oauthlib<0.5,>=0.4.1 in /usr/local/lib/python3.7/dist-packages (from tensorboard->avalanche==0.0.1) (0.4.4)\n",
            "Requirement already satisfied: setuptools>=41.0.0 in /usr/local/lib/python3.7/dist-packages (from tensorboard->avalanche==0.0.1) (56.1.0)\n",
            "Requirement already satisfied: wheel>=0.26; python_version >= \"3\" in /usr/local/lib/python3.7/dist-packages (from tensorboard->avalanche==0.0.1) (0.36.2)\n",
            "Requirement already satisfied: werkzeug>=0.11.15 in /usr/local/lib/python3.7/dist-packages (from tensorboard->avalanche==0.0.1) (1.0.1)\n",
            "Requirement already satisfied: google-auth<2,>=1.6.3 in /usr/local/lib/python3.7/dist-packages (from tensorboard->avalanche==0.0.1) (1.30.0)\n",
            "Requirement already satisfied: markdown>=2.6.8 in /usr/local/lib/python3.7/dist-packages (from tensorboard->avalanche==0.0.1) (3.3.4)\n",
            "Requirement already satisfied: urllib3!=1.25.0,!=1.25.1,<1.26,>=1.21.1 in /usr/local/lib/python3.7/dist-packages (from requests->pytorchcv->avalanche==0.0.1) (1.24.3)\n",
            "Requirement already satisfied: idna<3,>=2.5 in /usr/local/lib/python3.7/dist-packages (from requests->pytorchcv->avalanche==0.0.1) (2.10)\n",
            "Requirement already satisfied: chardet<4,>=3.0.2 in /usr/local/lib/python3.7/dist-packages (from requests->pytorchcv->avalanche==0.0.1) (3.0.4)\n",
            "Requirement already satisfied: certifi>=2017.4.17 in /usr/local/lib/python3.7/dist-packages (from requests->pytorchcv->avalanche==0.0.1) (2020.12.5)\n",
            "Collecting gitdb<5,>=4.0.1\n",
            "\u001b[?25l  Downloading https://files.pythonhosted.org/packages/ea/e8/f414d1a4f0bbc668ed441f74f44c116d9816833a48bf81d22b697090dba8/gitdb-4.0.7-py3-none-any.whl (63kB)\n",
            "\u001b[K     |████████████████████████████████| 71kB 8.5MB/s \n",
            "\u001b[?25hRequirement already satisfied: requests-oauthlib>=0.7.0 in /usr/local/lib/python3.7/dist-packages (from google-auth-oauthlib<0.5,>=0.4.1->tensorboard->avalanche==0.0.1) (1.3.0)\n",
            "Requirement already satisfied: cachetools<5.0,>=2.0.0 in /usr/local/lib/python3.7/dist-packages (from google-auth<2,>=1.6.3->tensorboard->avalanche==0.0.1) (4.2.2)\n",
            "Requirement already satisfied: rsa<5,>=3.1.4; python_version >= \"3.6\" in /usr/local/lib/python3.7/dist-packages (from google-auth<2,>=1.6.3->tensorboard->avalanche==0.0.1) (4.7.2)\n",
            "Requirement already satisfied: pyasn1-modules>=0.2.1 in /usr/local/lib/python3.7/dist-packages (from google-auth<2,>=1.6.3->tensorboard->avalanche==0.0.1) (0.2.8)\n",
            "Requirement already satisfied: importlib-metadata; python_version < \"3.8\" in /usr/local/lib/python3.7/dist-packages (from markdown>=2.6.8->tensorboard->avalanche==0.0.1) (4.0.1)\n",
            "Collecting smmap<5,>=3.0.1\n",
            "  Downloading https://files.pythonhosted.org/packages/68/ee/d540eb5e5996eb81c26ceffac6ee49041d473bc5125f2aa995cf51ec1cf1/smmap-4.0.0-py2.py3-none-any.whl\n",
            "Requirement already satisfied: oauthlib>=3.0.0 in /usr/local/lib/python3.7/dist-packages (from requests-oauthlib>=0.7.0->google-auth-oauthlib<0.5,>=0.4.1->tensorboard->avalanche==0.0.1) (3.1.0)\n",
            "Requirement already satisfied: pyasn1>=0.1.3 in /usr/local/lib/python3.7/dist-packages (from rsa<5,>=3.1.4; python_version >= \"3.6\"->google-auth<2,>=1.6.3->tensorboard->avalanche==0.0.1) (0.4.8)\n",
            "Requirement already satisfied: zipp>=0.5 in /usr/local/lib/python3.7/dist-packages (from importlib-metadata; python_version < \"3.8\"->markdown>=2.6.8->tensorboard->avalanche==0.0.1) (3.4.1)\n",
            "Building wheels for collected packages: avalanche\n",
            "  Building wheel for avalanche (PEP 517) ... \u001b[?25l\u001b[?25hdone\n",
            "  Created wheel for avalanche: filename=avalanche-0.0.1-cp37-none-any.whl size=335485 sha256=fc3d05d18541bb5d312edcf30fa5e271fa3ea01ed5b50cdfb426f706b848febb\n",
            "  Stored in directory: /tmp/pip-ephem-wheel-cache-2q6xx2bn/wheels/45/3e/b7/1d78eeb6c42557cc5b6d727b2fed5b8ed3895bbcd23d9b6d29\n",
            "Successfully built avalanche\n",
            "Building wheels for collected packages: quadprog, gputil, pathtools, subprocess32\n",
            "  Building wheel for quadprog (setup.py) ... \u001b[?25l\u001b[?25hdone\n",
            "  Created wheel for quadprog: filename=quadprog-0.1.8-cp37-cp37m-linux_x86_64.whl size=336641 sha256=62c43b6cb76c2c02ec32cfea4fe088273873b77dbfbe1b6760fc94129add3d7e\n",
            "  Stored in directory: /root/.cache/pip/wheels/0c/39/5f/c712b0e462439dec9b30080cf34622f167929b39bd964d8baf\n",
            "  Building wheel for gputil (setup.py) ... \u001b[?25l\u001b[?25hdone\n",
            "  Created wheel for gputil: filename=GPUtil-1.4.0-cp37-none-any.whl size=7411 sha256=64ad52d21ed49115d3a352b6dcfdc29ad5fcd12fbf8775ccecd8b129a712628a\n",
            "  Stored in directory: /root/.cache/pip/wheels/3d/77/07/80562de4bb0786e5ea186911a2c831fdd0018bda69beab71fd\n",
            "  Building wheel for pathtools (setup.py) ... \u001b[?25l\u001b[?25hdone\n",
            "  Created wheel for pathtools: filename=pathtools-0.1.2-cp37-none-any.whl size=8786 sha256=3844af7efc9eb79c7d37b8f4c4bcd0bec03531fbb883aa5bee83e63699578d5f\n",
            "  Stored in directory: /root/.cache/pip/wheels/0b/04/79/c3b0c3a0266a3cb4376da31e5bfe8bba0c489246968a68e843\n",
            "  Building wheel for subprocess32 (setup.py) ... \u001b[?25l\u001b[?25hdone\n",
            "  Created wheel for subprocess32: filename=subprocess32-3.5.4-cp37-none-any.whl size=6489 sha256=dd6483922bf1e37929085af166e3f613af74ec4aaf1c130b03605ee7c3d9653c\n",
            "  Stored in directory: /root/.cache/pip/wheels/68/39/1a/5e402bdfdf004af1786c8b853fd92f8c4a04f22aad179654d1\n",
            "Successfully built quadprog gputil pathtools subprocess32\n",
            "Installing collected packages: quadprog, gputil, pytorchcv, smmap, gitdb, GitPython, configparser, pathtools, sentry-sdk, docker-pycreds, subprocess32, shortuuid, wandb, avalanche\n",
            "Successfully installed GitPython-3.1.17 avalanche-0.0.1 configparser-5.0.2 docker-pycreds-0.4.0 gitdb-4.0.7 gputil-1.4.0 pathtools-0.1.2 pytorchcv-0.0.65 quadprog-0.1.8 sentry-sdk-1.1.0 shortuuid-1.0.1 smmap-4.0.0 subprocess32-3.5.4 wandb-0.10.30\n"
          ],
          "name": "stdout"
        }
      ]
    },
    {
      "cell_type": "code",
      "metadata": {
        "id": "4vCwLdpaArU9"
      },
      "source": [
        "from avalanche.benchmarks.classic import CORe50\n",
        "# the scenario \"New Instances\" (NI) corresponds to the prevously introduced \n",
        "# Domain-Incremental setting and its based on the idea of encounterning images\n",
        "# of the same classes for every incremental batch of data (or experience if you \n",
        "# will). The \"mini\" option downloads data 32x32 instead of the original 128x128 \n",
        "scenario = CORe50(scenario=\"ni\", mini=True)"
      ],
      "execution_count": null,
      "outputs": []
    },
    {
      "cell_type": "markdown",
      "metadata": {
        "id": "7zzDP1glepWb"
      },
      "source": [
        "## Exercise 5: Apply you best Continual Learning strategy to the challenging CORe50 settings!\n",
        "\n",
        "CORe50 offers and number of interesting preset scenarios already implemented and available to you through Avalanche. \n",
        "\n",
        "In this exercise try to explore the different scenarios offered (like the challenging NICv2-391) and apply what you've previously learned (like a replay approach) to get the best accuracy you can!"
      ]
    },
    {
      "cell_type": "markdown",
      "metadata": {
        "id": "Y6Pux46LWw7e"
      },
      "source": [
        "---\n",
        "# Bonus\n",
        "\n",
        "Add extra text that you want students to have for reference later but that will make reading times too long during tutorials"
      ]
    },
    {
      "cell_type": "code",
      "metadata": {
        "id": "eVBcODAE9t95"
      },
      "source": [
        "# should probably hint at Avalanche at least"
      ],
      "execution_count": null,
      "outputs": []
    },
    {
      "cell_type": "code",
      "metadata": {
        "id": "Z2P2Cgzny8TW"
      },
      "source": [
        "# Free up resources when done :)\n",
        "\n",
        "import os, signal\n",
        "os.kill(os.getpid(), signal.SIGKILL)"
      ],
      "execution_count": null,
      "outputs": []
    }
  ]
}